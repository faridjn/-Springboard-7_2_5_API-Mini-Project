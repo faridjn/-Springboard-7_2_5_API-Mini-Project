{
 "cells": [
  {
   "cell_type": "markdown",
   "metadata": {},
   "source": [
    "# Frequentist Inference Case Study - Part B"
   ]
  },
  {
   "cell_type": "markdown",
   "metadata": {},
   "source": [
    "## Learning objectives"
   ]
  },
  {
   "cell_type": "markdown",
   "metadata": {},
   "source": [
    "Welcome to Part B of the Frequentist inference case study! The purpose of this case study is to help you apply the concepts associated with Frequentist inference in Python. In particular, you'll practice writing Python code to apply the following statistical concepts: \n",
    "* the _z_-statistic\n",
    "* the _t_-statistic\n",
    "* the difference and relationship between the two\n",
    "* the Central Limit Theorem, including its assumptions and consequences\n",
    "* how to estimate the population mean and standard deviation from a sample\n",
    "* the concept of a sampling distribution of a test statistic, particularly for the mean\n",
    "* how to combine these concepts to calculate a confidence interval"
   ]
  },
  {
   "cell_type": "markdown",
   "metadata": {},
   "source": [
    "In the previous notebook, we used only data from a known normal distribution. **You'll now tackle real data, rather than simulated data, and answer some relevant real-world business problems using the data.**"
   ]
  },
  {
   "cell_type": "markdown",
   "metadata": {},
   "source": [
    "## Hospital medical charges"
   ]
  },
  {
   "cell_type": "markdown",
   "metadata": {},
   "source": [
    "Imagine that a hospital has hired you as their data scientist. An administrator is working on the hospital's business operations plan and needs you to help them answer some business questions. \n",
    "\n",
    "In this assignment notebook, you're going to use frequentist statistical inference on a data sample to answer the questions:\n",
    "* has the hospital's revenue stream fallen below a key threshold?\n",
    "* are patients with insurance really charged different amounts than those without?\n",
    "\n",
    "Answering that last question with a frequentist approach makes some assumptions, and requires some knowledge, about the two groups."
   ]
  },
  {
   "cell_type": "markdown",
   "metadata": {},
   "source": [
    "We are going to use some data on medical charges obtained from [Kaggle](https://www.kaggle.com/easonlai/sample-insurance-claim-prediction-dataset). \n",
    "\n",
    "For the purposes of this exercise, assume the observations are the result of random sampling from our single hospital. Recall that in the previous assignment, we introduced the Central Limit Theorem (CLT), and its consequence that the distributions of sample statistics approach a normal distribution as $n$ increases. The amazing thing about this is that it applies to the sampling distributions of statistics that have been calculated from even highly non-normal distributions of data! Recall, also, that hypothesis testing is very much based on making inferences about such sample statistics. You're going to rely heavily on the CLT to apply frequentist (parametric) tests to answer the questions in this notebook."
   ]
  },
  {
   "cell_type": "code",
   "execution_count": 58,
   "metadata": {},
   "outputs": [],
   "source": [
    "import pandas as pd\n",
    "import numpy as np\n",
    "import matplotlib.pyplot as plt\n",
    "from numpy.random import seed"
   ]
  },
  {
   "cell_type": "code",
   "execution_count": 2,
   "metadata": {},
   "outputs": [],
   "source": [
    "medical = pd.read_csv('data/insurance2.csv')"
   ]
  },
  {
   "cell_type": "code",
   "execution_count": 3,
   "metadata": {},
   "outputs": [
    {
     "data": {
      "text/plain": [
       "(1338, 8)"
      ]
     },
     "execution_count": 3,
     "metadata": {},
     "output_type": "execute_result"
    }
   ],
   "source": [
    "medical.shape"
   ]
  },
  {
   "cell_type": "code",
   "execution_count": 4,
   "metadata": {},
   "outputs": [
    {
     "data": {
      "text/html": [
       "<div>\n",
       "<style scoped>\n",
       "    .dataframe tbody tr th:only-of-type {\n",
       "        vertical-align: middle;\n",
       "    }\n",
       "\n",
       "    .dataframe tbody tr th {\n",
       "        vertical-align: top;\n",
       "    }\n",
       "\n",
       "    .dataframe thead th {\n",
       "        text-align: right;\n",
       "    }\n",
       "</style>\n",
       "<table border=\"1\" class=\"dataframe\">\n",
       "  <thead>\n",
       "    <tr style=\"text-align: right;\">\n",
       "      <th></th>\n",
       "      <th>age</th>\n",
       "      <th>sex</th>\n",
       "      <th>bmi</th>\n",
       "      <th>children</th>\n",
       "      <th>smoker</th>\n",
       "      <th>region</th>\n",
       "      <th>charges</th>\n",
       "      <th>insuranceclaim</th>\n",
       "    </tr>\n",
       "  </thead>\n",
       "  <tbody>\n",
       "    <tr>\n",
       "      <th>0</th>\n",
       "      <td>19</td>\n",
       "      <td>0</td>\n",
       "      <td>27.900</td>\n",
       "      <td>0</td>\n",
       "      <td>1</td>\n",
       "      <td>3</td>\n",
       "      <td>16884.92400</td>\n",
       "      <td>1</td>\n",
       "    </tr>\n",
       "    <tr>\n",
       "      <th>1</th>\n",
       "      <td>18</td>\n",
       "      <td>1</td>\n",
       "      <td>33.770</td>\n",
       "      <td>1</td>\n",
       "      <td>0</td>\n",
       "      <td>2</td>\n",
       "      <td>1725.55230</td>\n",
       "      <td>1</td>\n",
       "    </tr>\n",
       "    <tr>\n",
       "      <th>2</th>\n",
       "      <td>28</td>\n",
       "      <td>1</td>\n",
       "      <td>33.000</td>\n",
       "      <td>3</td>\n",
       "      <td>0</td>\n",
       "      <td>2</td>\n",
       "      <td>4449.46200</td>\n",
       "      <td>0</td>\n",
       "    </tr>\n",
       "    <tr>\n",
       "      <th>3</th>\n",
       "      <td>33</td>\n",
       "      <td>1</td>\n",
       "      <td>22.705</td>\n",
       "      <td>0</td>\n",
       "      <td>0</td>\n",
       "      <td>1</td>\n",
       "      <td>21984.47061</td>\n",
       "      <td>0</td>\n",
       "    </tr>\n",
       "    <tr>\n",
       "      <th>4</th>\n",
       "      <td>32</td>\n",
       "      <td>1</td>\n",
       "      <td>28.880</td>\n",
       "      <td>0</td>\n",
       "      <td>0</td>\n",
       "      <td>1</td>\n",
       "      <td>3866.85520</td>\n",
       "      <td>1</td>\n",
       "    </tr>\n",
       "  </tbody>\n",
       "</table>\n",
       "</div>"
      ],
      "text/plain": [
       "   age  sex     bmi  children  smoker  region      charges  insuranceclaim\n",
       "0   19    0  27.900         0       1       3  16884.92400               1\n",
       "1   18    1  33.770         1       0       2   1725.55230               1\n",
       "2   28    1  33.000         3       0       2   4449.46200               0\n",
       "3   33    1  22.705         0       0       1  21984.47061               0\n",
       "4   32    1  28.880         0       0       1   3866.85520               1"
      ]
     },
     "execution_count": 4,
     "metadata": {},
     "output_type": "execute_result"
    }
   ],
   "source": [
    "medical.head()"
   ]
  },
  {
   "cell_type": "markdown",
   "metadata": {},
   "source": [
    "__Q1:__ Plot the histogram of charges and calculate the mean and standard deviation. Comment on the appropriateness of these statistics for the data."
   ]
  },
  {
   "cell_type": "markdown",
   "metadata": {},
   "source": [
    "__A:__ The histogram doesn't have symetric normal distribution. Rather, the data appears to have a right skewed distribution. the data has high variance with coefficient of variation (c.v.) of about 90%. In this case, median value is a bettter representative as the summary statistics."
   ]
  },
  {
   "cell_type": "code",
   "execution_count": 5,
   "metadata": {},
   "outputs": [
    {
     "name": "stdout",
     "output_type": "stream",
     "text": [
      "mean = 13270.42\n",
      "median = 9382.03\n",
      "std = 12110.01\n",
      "cv = 91.26%\n"
     ]
    }
   ],
   "source": [
    "mean = np.mean(medical.charges)\n",
    "stdev = np.std(medical.charges, ddof = 1)\n",
    "median = np.median(medical.charges)\n",
    "\n",
    "print(f'mean = {mean:.2f}')\n",
    "print(f'median = {median:.2f}')\n",
    "print(f'std = {stdev:.2f}')\n",
    "print(f'cv = {100*stdev/mean:.2f}%')"
   ]
  },
  {
   "cell_type": "code",
   "execution_count": 6,
   "metadata": {},
   "outputs": [],
   "source": [
    "def optimum_hist_bin(data):\n",
    "    '''calcualte the optiomum bin count for histogram using Freedman-Diaconis rule''' \n",
    "    \n",
    "    q3, q1 = np.percentile(data, [75 ,25])\n",
    "    iqr = q3 - q1\n",
    "    h = 2*iqr * len(medical)**(-1/3)\n",
    "    bins = int((np.max(medical.charges)-np.min(medical.charges))/h)\n",
    "    return bins"
   ]
  },
  {
   "cell_type": "code",
   "execution_count": 7,
   "metadata": {},
   "outputs": [
    {
     "data": {
      "image/png": "[encoded data removed]",
      "text/plain": [
       "<Figure size 640x480 with 1 Axes>"
      ]
     },
     "metadata": {},
     "output_type": "display_data"
    }
   ],
   "source": [
    "# optiomum bin count\n",
    "bins  = optimum_hist_bin(medical.charges)\n",
    "#plot histogram\n",
    "_ = plt.hist(medical.charges, bins = bins)\n",
    "_ = plt.xlabel('charges (USD)')\n",
    "_ = plt.ylabel('number of charges')\n",
    "_ = plt.title('Distribution of medical charges for the hospital')\n",
    "_ = plt.axvline(mean, color='r', linestyle = '--')\n",
    "_ = plt.axvline(median, color='c', linestyle = '--')\n",
    "plt.show()"
   ]
  },
  {
   "cell_type": "markdown",
   "metadata": {},
   "source": [
    "__Q2:__ The administrator is concerned that the actual average charge has fallen below 12,000, threatening the hospital's operational model. On the assumption that these data represent a random sample of charges, how would you justify that these data allow you to answer that question? And what would be the most appropriate frequentist test, of the ones discussed so far, to apply?"
   ]
  },
  {
   "cell_type": "markdown",
   "metadata": {},
   "source": [
    "__A:__ the most probable mean value can be estimated using **bootstraming**. Based on **Central Limit Theorem (CLT)**, the distribution of sample means tends towards the form of a normal distribution with increasing sample size, almost regardless of the shape of the original data distribution."
   ]
  },
  {
   "cell_type": "markdown",
   "metadata": {},
   "source": [
    "__Q3:__ Given the nature of the administrator's concern, what is the appropriate confidence interval in this case? A ***one-sided*** or ***two-sided*** interval? (Refresh your understanding of this concept on p. 399 of the *AoS*). Calculate the critical value and the relevant 95% confidence interval for the mean, and comment on whether the administrator should be concerned."
   ]
  },
  {
   "cell_type": "markdown",
   "metadata": {},
   "source": [
    "__A:__ \n",
    "\n",
    "**Hypotheis testing:** This is a large sammple test with $\\sigma$ unkwon.\n",
    "\n",
    "**Null hypothesis**:\n",
    "\\begin{equation}\n",
    "H_{0}: \\mu = \\mu_{0}\n",
    "\\end{equation}\n",
    "where $\\mu$ is the population mean and $\\mu_{0}$ is 12,000.\n",
    "\n",
    "**Test Statistic**: \n",
    "\\begin{equation}\n",
    "z = \\frac {\\bar{x} - \\mu_{0}} {s/\\sqrt{n}}\n",
    "\\end{equation}\n",
    "where $\\bar{x}$ is the bootstrap sample mean, $s$ is the bootstrap sample stdev, and $n$ is the size of bootstap samples.\n",
    "\n",
    "**Alternative hypothesis**:\n",
    "\\begin{equation}\n",
    "H_{a}: \\mu > \\mu_{0}\n",
    "\\end{equation}\n",
    "\n",
    "**Rejection Region**:\n",
    "\\begin{equation}\n",
    "z > -z_{\\alpha}\n",
    "\\end{equation}\n",
    "\n",
    "**Test Result**:\n",
    "The observed data do not support the null hypothesis that mean is eqaul to 12,000, and we accpet the alternative hypotheis that mean value is greater than 12,000. It means there is no statistical evidence that support admistartion's concern about revenue."
   ]
  },
  {
   "cell_type": "code",
   "execution_count": 8,
   "metadata": {},
   "outputs": [],
   "source": [
    "#define a function to calculate means of bootsrap resamples\n",
    "def bootstrap(pop, n, N):\n",
    "    ''' Calculate means of N bootsrap resamples of size n'''\n",
    "    df = pd.DataFrame({'mean': [pop.sample(n, replace = True).mean() for i in range(N)]})\n",
    "    return df"
   ]
  },
  {
   "cell_type": "code",
   "execution_count": 9,
   "metadata": {},
   "outputs": [],
   "source": [
    "#run boostrap 1000 times for sample sizes of 100\n",
    "n = 100\n",
    "N = 1000\n",
    "bootstap = bootstrap(medical.charges, n, N)"
   ]
  },
  {
   "cell_type": "code",
   "execution_count": 10,
   "metadata": {},
   "outputs": [
    {
     "data": {
      "image/png": "[encoded data removed]",
      "text/plain": [
       "<Figure size 640x480 with 1 Axes>"
      ]
     },
     "metadata": {},
     "output_type": "display_data"
    }
   ],
   "source": [
    "_ = bootstap['mean'].hist(bins=30)\n",
    "_ = plt.xlabel('mean value')\n",
    "_ = plt.ylabel('count')\n",
    "_ = plt.title(f'Distribution of sample means of {N} bootstrap')"
   ]
  },
  {
   "cell_type": "code",
   "execution_count": 15,
   "metadata": {},
   "outputs": [
    {
     "name": "stdout",
     "output_type": "stream",
     "text": [
      "bs_mean = 13303.72\n",
      "bs_std = 1233.36\n"
     ]
    }
   ],
   "source": [
    "#calculate mean & std\n",
    "bs_mean = bootstap['mean'].mean()\n",
    "bs_std = bootstap['mean'].std()\n",
    "print(f'bs_mean = {bs_mean:.2f}')\n",
    "print(f'bs_std = {bs_std:.2f}')"
   ]
  },
  {
   "cell_type": "code",
   "execution_count": 17,
   "metadata": {},
   "outputs": [
    {
     "name": "stdout",
     "output_type": "stream",
     "text": [
      "z-score (95% one-tailed) = 1.64\n"
     ]
    }
   ],
   "source": [
    "from scipy.stats import norm\n",
    "\n",
    "#Calculate the (95%) margin of error\n",
    "#find the critical value z-score (one-tailed 95%)\n",
    "alpha = 1 - 0.05\n",
    "z_alpha = norm.ppf(alpha)\n",
    "print(f'z-score (95% one-tailed) = {z_alpha:1.2f}')\n",
    "\n",
    "me = z_alpha * bs_std/np.sqrt(len(bootstap))"
   ]
  },
  {
   "cell_type": "code",
   "execution_count": 18,
   "metadata": {},
   "outputs": [
    {
     "name": "stdout",
     "output_type": "stream",
     "text": [
      "confidence interval (ci) = (13239.57, 13367.87)\n"
     ]
    }
   ],
   "source": [
    "#Calculate the 95% Confidence Interval of the mean\n",
    "ci = (bs_mean - me, bs_mean + me)\n",
    "print(\"confidence interval (ci) = ({:.2f}, {:.2f})\".format(*ci))"
   ]
  },
  {
   "cell_type": "code",
   "execution_count": 20,
   "metadata": {},
   "outputs": [
    {
     "name": "stdout",
     "output_type": "stream",
     "text": [
      "z_apla = -1.6448536269514729\n",
      "z = 33.42681976083783\n",
      "\n"
     ]
    }
   ],
   "source": [
    "#Calculate the (95%) margin of error (one-tailed 95%)\n",
    "alpha = 0.05\n",
    "\n",
    "#find the critical value z-score \n",
    "z_alpha = norm.ppf(alpha)\n",
    "\n",
    "z = (bs_mean - 12000) / (bs_std / np.sqrt(len(bootstap)))\n",
    "\n",
    "print(f'z_apla = {z_alpha}')\n",
    "print(f'z = {z}\\n')\n"
   ]
  },
  {
   "cell_type": "code",
   "execution_count": 158,
   "metadata": {},
   "outputs": [
    {
     "name": "stdout",
     "output_type": "stream",
     "text": [
      "Ha: True\n",
      "p-value: 0.00000000\n",
      "\n",
      "\n",
      "Ho Is Rejected: The observed data don't support the Null Hypothesis. \n",
      "This means the observed data provides evidence that Ho is not True.\n",
      "\n"
     ]
    }
   ],
   "source": [
    "Reject_Ho = '''\n",
    "\\nHo Is Rejected: The observed data don't support the Null Hypothesis. \n",
    "This means the observed data provides evidence that Ho is not True.\n",
    "'''\n",
    "\n",
    "Accept_Ho = '''\n",
    "\\nHa Is Rejected: The data don't provide evidence that the Null Hypothesis is not True.\n",
    "'''\n",
    "\n",
    "RR_z_test = z > -z_alpha\n",
    "\n",
    "print(f'Alternative Hypothesis: {RR_z_test}')\n",
    "print(f'p-value: {1- norm.cdf(z):0.8f}')\n",
    "\n",
    "if RR_z_test:\n",
    "    print(Reject_Ho)\n",
    "else:\n",
    "    print(Accept_Ho)\n"
   ]
  },
  {
   "cell_type": "markdown",
   "metadata": {},
   "source": [
    "The administrator then wants to know whether people with insurance really are charged a different amount to those without.\n",
    "\n",
    "__Q4:__ State the null and alternative hypothesis here. Use the _t_-test for the difference between means, where the pooled standard deviation of the two groups is given by:\n",
    "\\begin{equation*}\n",
    "s_p = \\sqrt{\\frac{(n_0 - 1)s^2_0 + (n_1 - 1)s^2_1}{n_0 + n_1 - 2}}\n",
    "\\tag{1}\n",
    "\\end{equation*}\n",
    "\n",
    "and the *t*-test statistic is then given by:\n",
    "\n",
    "\\begin{equation}\n",
    "t = \\frac{\\bar{x}_0 - \\bar{x}_1}{s_p \\sqrt{1/n_0 + 1/n_1}} \\tag{2}\n",
    "\\end{equation}\n",
    "\n",
    "(If you need some reminding of the general definition of ***t-statistic***, check out the definition on p. 404 of *AoS*). \n",
    "\n",
    "What assumption about the variances of the two groups are we making here?"
   ]
  },
  {
   "cell_type": "markdown",
   "metadata": {},
   "source": [
    "__A:__\n",
    "\n",
    "**Hypotheis testing:** Small comparison of Mean $\\sigma_{1}$ and $\\sigma_{2}$ Unkwon, but Equal (Pooled t-test)\n",
    "\n",
    "Null hypothesis:  $ H_{0}: \\mu_{1} - \\mu_{2} = \\Delta_{0} $\n",
    "\n",
    "Test Statistic: \n",
    "$(Eq. 1)$\n",
    "\n",
    "Alternative hypothesis:  $ H_{a}: \\mu_{1} - \\mu_{2} \\neq \\Delta_{0} $\n",
    "\n",
    "Rejection Region: $|{t}| > t_{\\alpha, v}$\n",
    "\n",
    "Test Result: The observed data do not support the null hypothesis that mean is eqaul to 12,000, and we accpet the alternative hypotheis that mean value is greater than 12,000. It means there is no statistical evidence that support admistartion's concern about revenue."
   ]
  },
  {
   "cell_type": "markdown",
   "metadata": {},
   "source": [
    "__Q5:__ Perform this hypothesis test both manually, using the above formulae, and then using the appropriate function from [scipy.stats](https://docs.scipy.org/doc/scipy/reference/stats.html#statistical-tests) (hint, you're looking for a function to perform a _t_-test on two independent samples). For the manual approach, calculate the value of the test statistic and then its probability (the p-value). Verify you get the same results from both."
   ]
  },
  {
   "cell_type": "markdown",
   "metadata": {},
   "source": [
    "__A:__ Manual"
   ]
  },
  {
   "cell_type": "code",
   "execution_count": 175,
   "metadata": {},
   "outputs": [],
   "source": [
    "#filter medical records for a) insurance claims, and b) no insurance claims\n",
    "filt = medical['insuranceclaim'] == 1\n",
    "\n",
    "insurance_claim = medical.charges.loc[filt]\n",
    "no_insurance_claim = medical.charges.loc[~filt]"
   ]
  },
  {
   "cell_type": "code",
   "execution_count": 197,
   "metadata": {},
   "outputs": [
    {
     "name": "stdout",
     "output_type": "stream",
     "text": [
      "m1 = 16423.93\t s1 = 14045.93\t n1 = 783\n",
      "m2 = 8821.42\t s2 = 6446.51\t n2 = 555\n"
     ]
    }
   ],
   "source": [
    "#summary stats for insurance claims\n",
    "m1 = insurance_claim.mean()\n",
    "s1  = insurance_claim.std(ddof = 1)\n",
    "n1 = len(insurance_claim)\n",
    "print(f'm1 = {m1:.2f}\\t s1 = {s1:.2f}\\t n1 = {n1:.0f}')\n",
    "\n",
    "#summary stats for no insurance claims\n",
    "m2 = no_insurance_claim.mean()\n",
    "s2  = no_insurance_claim.std(ddof = 1)\n",
    "n2 = len(no_insurance_claim)\n",
    "print(f'm2 = {m2:.2f}\\t s2 = {s2:.2f}\\t n2 = {n2:.0f}')\n"
   ]
  },
  {
   "cell_type": "code",
   "execution_count": 204,
   "metadata": {},
   "outputs": [
    {
     "name": "stdout",
     "output_type": "stream",
     "text": [
      "0.03661876613006809\n"
     ]
    }
   ],
   "source": [
    "# Calcuate Test Statisics\n",
    "Sp = np.sqrt(((n1 - 1)*s1**2 + (n2 - 1)*s2**2)/(n1+n2-2))\n",
    "t_stats = ((m1-m2) - 0) / Sp*np.sqrt(1/n1 + 1/n2)\n",
    "\n",
    "print(t_stats)"
   ]
  },
  {
   "cell_type": "code",
   "execution_count": 205,
   "metadata": {},
   "outputs": [
    {
     "name": "stdout",
     "output_type": "stream",
     "text": [
      "-1.9617412190546961\n"
     ]
    }
   ],
   "source": [
    "from scipy.stats import t\n",
    "\n",
    "alpha = 0.05/2\n",
    "dof = n1 + n2 - 2\n",
    "t_alpha_dof = t.ppf(q = alpha, df = dof)\n",
    "\n",
    "print(t_alpha_dof)"
   ]
  },
  {
   "cell_type": "code",
   "execution_count": 206,
   "metadata": {},
   "outputs": [
    {
     "name": "stdout",
     "output_type": "stream",
     "text": [
      "Alternative Hypothesis: False\n",
      "p-value: 0.48539723\n",
      "\n",
      "\n",
      "Ha Is Rejected: The data don't provide evidence that the Null Hypothesis is not True.\n",
      "\n"
     ]
    }
   ],
   "source": [
    "#R.R.\n",
    "RR_t_test = np.absolute(t_stats) > t_alpha_v\n",
    "\n",
    "print(f'Alternative Hypothesis: {RR_t_test}')\n",
    "print(f'p-value: {1 - t.cdf(t_val, dof):0.8f}')\n",
    "   \n",
    "if RR_t_test:\n",
    "    print(Reject_Ho)\n",
    "else:\n",
    "    print(Accept_Ho)"
   ]
  },
  {
   "cell_type": "code",
   "execution_count": 207,
   "metadata": {},
   "outputs": [],
   "source": [
    "#The data don't provide evidence that the people with insurance\n",
    "#are charged a different amount to those without insurance."
   ]
  },
  {
   "cell_type": "markdown",
   "metadata": {},
   "source": [
    "__A:__ Built-in function"
   ]
  },
  {
   "cell_type": "code",
   "execution_count": 208,
   "metadata": {},
   "outputs": [
    {
     "data": {
      "text/plain": [
       "Ttest_indResult(statistic=13.298031957975647, pvalue=1.1105103216309438e-37)"
      ]
     },
     "execution_count": 208,
     "metadata": {},
     "output_type": "execute_result"
    }
   ],
   "source": [
    "import scipy.stats\n",
    "#This is a test for the null hypothesis that two independent samples have identical average (expected) values.\n",
    "scipy.stats.ttest_ind_from_stats(m1, s1, n1, m2, s2, n2, equal_var=False, alternative='two-sided')"
   ]
  },
  {
   "cell_type": "code",
   "execution_count": 209,
   "metadata": {},
   "outputs": [
    {
     "data": {
      "text/plain": [
       "Ttest_indResult(statistic=13.298031957975649, pvalue=1.1105103216309125e-37)"
      ]
     },
     "execution_count": 209,
     "metadata": {},
     "output_type": "execute_result"
    }
   ],
   "source": [
    "scipy.stats.ttest_ind(insurance_claim, no_insurance_claim, equal_var=False, alternative='two-sided')"
   ]
  },
  {
   "cell_type": "code",
   "execution_count": 210,
   "metadata": {},
   "outputs": [],
   "source": [
    "### I AM NOT SURE WHY I AM NOT GETTING SAME RESULTS!!!"
   ]
  },
  {
   "cell_type": "markdown",
   "metadata": {},
   "source": [
    "Congratulations! Hopefully you got the exact same numerical results. This shows that you correctly calculated the numbers by hand. Secondly, you used the correct function and saw that it's much easier to use. All you need to do is pass your data to it."
   ]
  },
  {
   "cell_type": "markdown",
   "metadata": {},
   "source": [
    "__Q6:__ Conceptual question: look through the documentation for statistical test functions in scipy.stats. You'll see the above _t_-test for a sample, but can you see an equivalent one for performing a *z*-test from a sample? Comment on your answer."
   ]
  },
  {
   "cell_type": "markdown",
   "metadata": {},
   "source": [
    "__A:__  \n",
    "\n",
    "z-test views the averages of data sets that are different from each other but have the standard deviation of the population known, which is not the case for this scenario."
   ]
  },
  {
   "cell_type": "code",
   "execution_count": null,
   "metadata": {},
   "outputs": [],
   "source": []
  },
  {
   "cell_type": "markdown",
   "metadata": {},
   "source": [
    "## Learning outcomes"
   ]
  },
  {
   "cell_type": "markdown",
   "metadata": {},
   "source": [
    "Having completed this project notebook, you now have good hands-on experience:\n",
    "* using the central limit theorem to help you apply frequentist techniques to answer questions that pertain to very non-normally distributed data from the real world\n",
    "* performing inference using such data to answer business questions\n",
    "* forming a hypothesis and framing the null and alternative hypotheses\n",
    "* testing this using a _t_-test"
   ]
  }
 ],
 "metadata": {
  "kernelspec": {
   "display_name": "Python 3 (ipykernel)",
   "language": "python",
   "name": "python3"
  },
  "language_info": {
   "codemirror_mode": {
    "name": "ipython",
    "version": 3
   },
   "file_extension": ".py",
   "mimetype": "text/x-python",
   "name": "python",
   "nbconvert_exporter": "python",
   "pygments_lexer": "ipython3",
   "version": "3.9.13"
  }
 },
 "nbformat": 4,
 "nbformat_minor": 2
}
