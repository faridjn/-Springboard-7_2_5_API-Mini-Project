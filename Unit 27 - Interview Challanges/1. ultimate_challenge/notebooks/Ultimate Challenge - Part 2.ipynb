{
 "cells": [
  {
   "cell_type": "markdown",
   "id": "877a6085",
   "metadata": {},
   "source": [
    "# Data Analysis Interview Challenge\n",
    "\n",
    "## Part 2 ‐ Experiment and metrics design\n",
    "\n",
    "Ultimate Technologies Inc. is a transportation network company that has disrupted the taxi and logistics industry and is considered a prestigious company to work for. This challenge has been adapted from an actual Ultimate Inc. data science challenge.\n",
    "\n",
    "\n",
    "\n",
    "The neighboring cities of Gotham and Metropolis have complementary circadian rhythms: on\n",
    "weekdays, Ultimate Gotham is most active at night, and Ultimate Metropolis is most active\n",
    "during the day. On weekends, there is reasonable activity in both cities.However, a toll bridge, with a two way toll, between the two cities causes driver partners to tend to be exclusive to each city. The Ultimate managers of city operations for the two cities have proposed an experiment to encourage driver partners to be available in both cities, by reimbursing all toll costs.\n",
    "1) What would you choose as the key measure of success of this experiment in encouraging driver partners to serve both cities, and why would you choose this metric?\n",
    "2) Describe a practical experiment you would design to compare the effectiveness of the proposed change in relation to the key measure of success. Please provide details on:\n",
    " - how you will implement the experiment\n",
    " - what statistical test(s) you will conduct to verify the significance of the observation\n",
    " - how you would interpret the results and provide recommendations to the city operations team along with any caveats.\n",
    "\n",
    "_Note: The two cities of Gotham and Metropolis are not in the provided dataset; however, you do not need this information to answer Part 2._\n",
    "\n"
   ]
  },
  {
   "cell_type": "markdown",
   "id": "9e952ed0",
   "metadata": {},
   "source": [
    "## Answer\n",
    "\n",
    "The problem is that driver partners only serve one city due to toll costs, which leads to imbalanced demand and service in both cities during peak hours on weekdays. The Ultimate managers plan to reimburse all toll costs for drivers who serve both cities to balance the demand and service. The effectiveness of the policy will be measured by tracking the traffic volume increase in both directions during peak hours.More cars going from Gotham to Metropolis from 6 am to 6 pm on weekdays and more cars going from Metropolis to Gotham from 6 pm to 6 am on weekdays will indicate success. The experiment will measure traffic volume for one month prior to implementing the policy and for three months afterward.\n",
    "\n",
    "Two hypothesis tests will be conducted to analyze the data using a one-tailed Z-test to calculate the p-value for each hypothesis.\n",
    "- **Test 1:**\n",
    "    - H0: There is no increase in traffic volume from Gotham to Metropolis from 6 am to 6 pm on weekdays\n",
    "    - H1: There is an increase in traffic volume from Gotham to Metropolis from 6 am to 6 pm on weekdays\n",
    "- **Test 2:**\n",
    "    - H0: There is no increase in traffic volume from Metropolis to Gotham from 6 pm to 6 am on weekdays\n",
    "    - H1: There is an increase in traffic volume from Metropolis to Gotham from 6 pm to 6 am on weekdays\n",
    "    \n",
    "For each test:\n",
    "- If the p-value is less than 0.05, the null hypotheses will be rejected, and the reimbursement program will be recommended to continue while collecting additional data.\n",
    "- If the p-value is greater than 0.05, the null hypotheses will not be rejected, and a different program to increase partner driving between the two cities will be suggested.\n",
    "- If only one hypothesis has a p-value less than 0.05, the analysis will be inconclusive, and further investigation will be recommended."
   ]
  },
  {
   "cell_type": "code",
   "execution_count": null,
   "id": "2e44a2a6",
   "metadata": {},
   "outputs": [],
   "source": []
  }
 ],
 "metadata": {
  "kernelspec": {
   "display_name": "Python 3 (ipykernel)",
   "language": "python",
   "name": "python3"
  },
  "language_info": {
   "codemirror_mode": {
    "name": "ipython",
    "version": 3
   },
   "file_extension": ".py",
   "mimetype": "text/x-python",
   "name": "python",
   "nbconvert_exporter": "python",
   "pygments_lexer": "ipython3",
   "version": "3.9.15"
  }
 },
 "nbformat": 4,
 "nbformat_minor": 5
}
