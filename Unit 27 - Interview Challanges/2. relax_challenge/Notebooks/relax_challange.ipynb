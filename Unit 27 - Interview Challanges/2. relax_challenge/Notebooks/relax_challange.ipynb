{
 "cells": [
  {
   "cell_type": "markdown",
   "id": "877a6085",
   "metadata": {
    "id": "877a6085"
   },
   "source": [
    "# Relax Challange\n",
    "\n",
    "## Project Description \n",
    "\n",
    "\n",
    "Defining  an  `adopted user`   as  a  user  *who   has  logged  into  the  product  on  three  separate days  in  at  least  one  seven­day  period* ,  **identify  which  factors  predict  future  user adoption**.\n",
    "\n",
    "We  suggest  spending  1­2  hours  on  this,  but  you're  welcome  to  spend  more  or  less. Please  send  us  a  brief  writeup  of  your  findings  (the  more  concise,  the  better  ­­  no  more than  one  page),  along  with  any  summary  tables,  graphs,  code,  or  queries  that  can  help us  understand  your  approach.  Please  note  any  factors  you  considered  or  investigation you  did,  even  if  they  did  not  pan  out.  Feel  free  to  identify  any  further  research  or  data you  think  would  be  valuable\n",
    "\n",
    "\n",
    "## Data description\n",
    "\n",
    "The  data  is  available  as  two  attached  CSV  files:\n",
    "- `takehome_user_engagement_df. csv`\n",
    "- `takehome_user.csv`\n",
    "\n",
    "The  data  has  the  following  two  tables:\n",
    "The  data  has  the  following  two  tables:\n",
    "\n",
    "1. A  user  table  ( \"takehome_user\" )  with  data  on  12,000  user  who  signed  up  for  the product  in  the  last  two  years. This  table  includes:\n",
    "     - `name`:  the  user's  name\n",
    "     - `object_id`:   the  user's  id\n",
    "     - `email`:  email  address\n",
    "     - `creation_source`:   how  their  account  was  created.  This  takes  on  one of  5  values:\n",
    "        - `PERSONAL_PROJECTS`:  invited  to  join  another  user's personal  workspace\n",
    "        - `GUEST_INVITE`:  invited  to  an  organization  as  a  guest (limited  permissions)\n",
    "        - `ORG_INVITE`:  invited  to  an  organization  (as  a  full  member)\n",
    "        - `SIGNUP`:  signed  up  via  the  website\n",
    "        - `SIGNUP_GOOGLE_AUTH`:  signed  up  using  Google Authentication  (using  a  Google  email  account  for  their  loginid)\n",
    "    - `creation_time`:  when  they  created  their  account\n",
    "    - `last_session_creation_time`:   unix  timestamp  of  last  login\n",
    "    - `opted_in_to_mailing_list`:  whether  they  have  opted  into  receiving marketing  emails\n",
    "    - `enabled_for_marketing_drip`:  whether  they  are  on  the  regular marketing  email  drip\n",
    "    - `org_id`:   the  organization  (group  of  user)  they  belong  to\n",
    "    - `nvited_by_user_id`:   which  user  invited  them  to  join  (if  applicable).\n",
    "    \n",
    "<b></b>\n",
    "    \n",
    "2. A  usage  summary  table  ( \"takehome_user_engagement_df\" )  that  has  a  row  for  each  day that  a  user  logged  into  the  product.\n"
   ]
  },
  {
   "cell_type": "markdown",
   "id": "88985f16",
   "metadata": {
    "id": "88985f16"
   },
   "source": [
    "# 1. Problem Definition"
   ]
  },
  {
   "cell_type": "markdown",
   "id": "9da018b1",
   "metadata": {
    "id": "9da018b1"
   },
   "source": [
    "The task is to identify factors that predict future user adoption, defining an adopted user as one who has logged into the product on three separate days in at least one seven-day period. The instruction is to provide a brief writeup of the findings, along with any relevant summary tables, graphs, code, or queries, and to note any factors considered or investigations done, even if they did not lead to a result. Further research or valuable data can also be identified."
   ]
  },
  {
   "cell_type": "markdown",
   "id": "6b2e1f21",
   "metadata": {
    "id": "6b2e1f21"
   },
   "source": [
    "# 2. Data Collection"
   ]
  },
  {
   "cell_type": "markdown",
   "id": "Is_hHSuTU82q",
   "metadata": {
    "id": "Is_hHSuTU82q"
   },
   "source": [
    "## Installations "
   ]
  },
  {
   "cell_type": "code",
   "execution_count": 1,
   "id": "Fbq1s8rIU5zv",
   "metadata": {
    "colab": {
     "base_uri": "https://localhost:8080/",
     "height": 35
    },
    "id": "Fbq1s8rIU5zv",
    "outputId": "39dd9024-0bf3-4a6a-ef0f-50788074ae70"
   },
   "outputs": [
    {
     "data": {
      "text/plain": [
       "'Install compatibale vesion of scikit-learn'"
      ]
     },
     "execution_count": 1,
     "metadata": {},
     "output_type": "execute_result"
    }
   ],
   "source": [
    "'''Install required packages'''\n",
    "#!pip install ppscore\n",
    "#!pip install pycaret==2.3.4\n",
    "#!pip install chardet\n",
    "\n",
    "'''Install compatibale vesion of scikit-learn'''\n",
    "#!pip install -U scikit-learn\n",
    "#!pip install scikit-learn==0.23.2"
   ]
  },
  {
   "cell_type": "markdown",
   "id": "e5a71728",
   "metadata": {
    "id": "e5a71728"
   },
   "source": [
    "## Import Libraries"
   ]
  },
  {
   "cell_type": "code",
   "execution_count": 2,
   "id": "5ac88818",
   "metadata": {
    "id": "5ac88818",
    "scrolled": false
   },
   "outputs": [],
   "source": [
    "#Fundamental libraries\n",
    "import numpy as np \n",
    "import pandas as pd \n",
    "\n",
    "#Plot libraries\n",
    "import seaborn as sns\n",
    "import matplotlib.pyplot as plt\n",
    "\n",
    "#Missing data vizualization libraries\n",
    "import missingno as msno\n",
    "#import ppscore as pps\n",
    "\n",
    "# read data\n",
    "import os \n",
    "import json\n"
   ]
  },
  {
   "cell_type": "markdown",
   "id": "sJQPYqIDGc4n",
   "metadata": {
    "id": "sJQPYqIDGc4n"
   },
   "source": [
    "## Utility Functions"
   ]
  },
  {
   "cell_type": "code",
   "execution_count": 3,
   "id": "wHGOlmLsE9UZ",
   "metadata": {
    "id": "wHGOlmLsE9UZ"
   },
   "outputs": [],
   "source": [
    "def json_url_to_df (url):\n",
    "    '''Read json url to df'''\n",
    "\n",
    "    import urllib.request\n",
    "\n",
    "    response = urllib.request.urlopen(url)\n",
    "    data = response.read().decode()\n",
    "    json_data = json.loads(data)\n",
    "\n",
    "    df = pd.DataFrame(json_data)\n",
    "\n",
    "    return df"
   ]
  },
  {
   "cell_type": "code",
   "execution_count": 4,
   "id": "_XHLmcM7FalF",
   "metadata": {
    "id": "_XHLmcM7FalF"
   },
   "outputs": [],
   "source": [
    "def json_file_to_df(directory, file_name):\n",
    "  \n",
    "    '''Read json url to df'''\n",
    "    # Change directory one step back and save as the root directory\n",
    "    root_dir = os.path.normpath(os.getcwd() + os.sep + os.pardir)\n",
    "    print(root_dir)\n",
    "\n",
    "    # Define the location of data directory\n",
    "    path = root_dir + '\\\\data\\\\'\n",
    "\n",
    "    # Set the file name\n",
    "    json_data = path + 'ultimate_data_challenge.json'\n",
    "\n",
    "    #Read JSON file into a dataframe: df\n",
    "    df = pd.DataFrame(json_data)\n",
    "\n",
    "    return df"
   ]
  },
  {
   "cell_type": "code",
   "execution_count": 5,
   "id": "xxuJJfpkGkD4",
   "metadata": {
    "id": "xxuJJfpkGkD4"
   },
   "outputs": [],
   "source": [
    "def csv_url_to_df(url):\n",
    "    '''Read csv file from url to df'''\n",
    "    import requests\n",
    "    import chardet\n",
    "\n",
    "    response = requests.get(url)\n",
    "    encoding = chardet.detect(response.content)['encoding']\n",
    "    df = pd.read_csv(url, encoding=encoding)\n",
    "\n",
    "    return df"
   ]
  },
  {
   "cell_type": "markdown",
   "id": "6d79f798",
   "metadata": {
    "id": "6d79f798"
   },
   "source": [
    "## Read Data"
   ]
  },
  {
   "cell_type": "code",
   "execution_count": 6,
   "id": "3nzrJGvKFZgK",
   "metadata": {
    "id": "3nzrJGvKFZgK"
   },
   "outputs": [],
   "source": [
    "## Read json url to df\n",
    "#url = \"https://raw.githubusercontent.com/faridjn/Springboard/master/Unit%2027%20-%20Interview%20Challanges/1.%20ultimate_challenge/data/ultimate_data_challenge.json\"\n",
    "#df = json_url_to_df(url)"
   ]
  },
  {
   "cell_type": "code",
   "execution_count": 7,
   "id": "0-d1s5TVFrEx",
   "metadata": {
    "id": "0-d1s5TVFrEx"
   },
   "outputs": [],
   "source": [
    "## Read json file to df\n",
    "#directory = '\\\\data\\\\'\n",
    "#file_name = 'ultimate_data_challenge.json'\n",
    "#df = json_file_to_df(directory, file_name)"
   ]
  },
  {
   "cell_type": "code",
   "execution_count": 8,
   "id": "1ae48109",
   "metadata": {
    "id": "1ae48109",
    "scrolled": false
   },
   "outputs": [],
   "source": [
    "#Read csv from url to df\n",
    "url_1 = 'https://raw.githubusercontent.com/faridjn/Springboard/master/Unit%2027%20-%20Interview%20Challanges/2.%20relax_challenge/Data/takehome_user_engagement.csv'\n",
    "url_2 = 'https://raw.githubusercontent.com/faridjn/Springboard/master/Unit%2027%20-%20Interview%20Challanges/2.%20relax_challenge/Data/takehome_users.csv'\n",
    "\n",
    "engagement_df = csv_url_to_df(url_1)\n",
    "user_df = csv_url_to_df(url_2)"
   ]
  },
  {
   "cell_type": "markdown",
   "id": "54b53407",
   "metadata": {
    "id": "54b53407"
   },
   "source": [
    "# 3. Data Wrangling"
   ]
  },
  {
   "cell_type": "markdown",
   "id": "05115b3a",
   "metadata": {
    "id": "05115b3a"
   },
   "source": [
    "## Utility functions"
   ]
  },
  {
   "cell_type": "code",
   "execution_count": 9,
   "id": "f2ad4bef",
   "metadata": {
    "id": "f2ad4bef"
   },
   "outputs": [],
   "source": [
    "def describe_dataframe(df):\n",
    "    print('Describe non-numeric columns:')\n",
    "    display(df.describe(include = ['O', 'bool']).round(2).T)\n",
    "    \n",
    "    print('\\nDescribe numeric columns:')\n",
    "    display(df.describe().round(2).T)\n",
    "    \n",
    "    return None"
   ]
  },
  {
   "cell_type": "code",
   "execution_count": 10,
   "id": "04e47847",
   "metadata": {
    "id": "04e47847"
   },
   "outputs": [],
   "source": [
    "#Missing data helper function\n",
    "def count_missing(df):\n",
    "    ''' Count the number of missing values .isnull() in each column well as the percentages \n",
    "    Call pd.concat() to form a single table df with 'count' and '%' columns'''\n",
    "    \n",
    "    print('\\nMissing data stasts')\n",
    "    missing = pd.concat([df.isnull().sum(), 100 * df.isnull().mean()], axis=1)\n",
    "    missing.columns=['count', '%']\n",
    "    missing = missing.loc[missing['count'] > 0]\n",
    "    missing.sort_values(by='count', inplace = True, ascending = False)\n",
    "    \n",
    "    return missing"
   ]
  },
  {
   "cell_type": "markdown",
   "id": "a7f64627",
   "metadata": {
    "id": "a7f64627"
   },
   "source": [
    "## Data inspection and exploration"
   ]
  },
  {
   "cell_type": "code",
   "execution_count": 11,
   "id": "e4822596",
   "metadata": {
    "colab": {
     "base_uri": "https://localhost:8080/"
    },
    "id": "e4822596",
    "outputId": "89aea3b9-8a58-46be-c1cb-f194b2399719"
   },
   "outputs": [
    {
     "name": "stdout",
     "output_type": "stream",
     "text": [
      "(207917, 3)\n",
      "(12000, 10)\n"
     ]
    }
   ],
   "source": [
    "#Check size of the dataframe\n",
    "print(engagement_df.shape)\n",
    "\n",
    "#Check size of the dataframe\n",
    "print(user_df.shape)"
   ]
  },
  {
   "cell_type": "code",
   "execution_count": 12,
   "id": "abdcde36",
   "metadata": {
    "colab": {
     "base_uri": "https://localhost:8080/",
     "height": 957
    },
    "id": "abdcde36",
    "outputId": "182cf95b-4130-46d3-e4ec-0033a3013cb5",
    "scrolled": false
   },
   "outputs": [
    {
     "data": {
      "text/plain": [
       "'engagement_df'"
      ]
     },
     "metadata": {},
     "output_type": "display_data"
    },
    {
     "data": {
      "text/html": [
       "<div>\n",
       "<style scoped>\n",
       "    .dataframe tbody tr th:only-of-type {\n",
       "        vertical-align: middle;\n",
       "    }\n",
       "\n",
       "    .dataframe tbody tr th {\n",
       "        vertical-align: top;\n",
       "    }\n",
       "\n",
       "    .dataframe thead th {\n",
       "        text-align: right;\n",
       "    }\n",
       "</style>\n",
       "<table border=\"1\" class=\"dataframe\">\n",
       "  <thead>\n",
       "    <tr style=\"text-align: right;\">\n",
       "      <th></th>\n",
       "      <th>time_stamp</th>\n",
       "      <th>user_id</th>\n",
       "      <th>visited</th>\n",
       "    </tr>\n",
       "  </thead>\n",
       "  <tbody>\n",
       "    <tr>\n",
       "      <th>0</th>\n",
       "      <td>2014-04-22 03:53:30</td>\n",
       "      <td>1</td>\n",
       "      <td>1</td>\n",
       "    </tr>\n",
       "    <tr>\n",
       "      <th>1</th>\n",
       "      <td>2013-11-15 03:45:04</td>\n",
       "      <td>2</td>\n",
       "      <td>1</td>\n",
       "    </tr>\n",
       "    <tr>\n",
       "      <th>2</th>\n",
       "      <td>2013-11-29 03:45:04</td>\n",
       "      <td>2</td>\n",
       "      <td>1</td>\n",
       "    </tr>\n",
       "    <tr>\n",
       "      <th>3</th>\n",
       "      <td>2013-12-09 03:45:04</td>\n",
       "      <td>2</td>\n",
       "      <td>1</td>\n",
       "    </tr>\n",
       "    <tr>\n",
       "      <th>4</th>\n",
       "      <td>2013-12-25 03:45:04</td>\n",
       "      <td>2</td>\n",
       "      <td>1</td>\n",
       "    </tr>\n",
       "    <tr>\n",
       "      <th>5</th>\n",
       "      <td>2013-12-31 03:45:04</td>\n",
       "      <td>2</td>\n",
       "      <td>1</td>\n",
       "    </tr>\n",
       "    <tr>\n",
       "      <th>6</th>\n",
       "      <td>2014-01-08 03:45:04</td>\n",
       "      <td>2</td>\n",
       "      <td>1</td>\n",
       "    </tr>\n",
       "    <tr>\n",
       "      <th>7</th>\n",
       "      <td>2014-02-03 03:45:04</td>\n",
       "      <td>2</td>\n",
       "      <td>1</td>\n",
       "    </tr>\n",
       "    <tr>\n",
       "      <th>8</th>\n",
       "      <td>2014-02-08 03:45:04</td>\n",
       "      <td>2</td>\n",
       "      <td>1</td>\n",
       "    </tr>\n",
       "    <tr>\n",
       "      <th>9</th>\n",
       "      <td>2014-02-09 03:45:04</td>\n",
       "      <td>2</td>\n",
       "      <td>1</td>\n",
       "    </tr>\n",
       "  </tbody>\n",
       "</table>\n",
       "</div>"
      ],
      "text/plain": [
       "            time_stamp  user_id  visited\n",
       "0  2014-04-22 03:53:30        1        1\n",
       "1  2013-11-15 03:45:04        2        1\n",
       "2  2013-11-29 03:45:04        2        1\n",
       "3  2013-12-09 03:45:04        2        1\n",
       "4  2013-12-25 03:45:04        2        1\n",
       "5  2013-12-31 03:45:04        2        1\n",
       "6  2014-01-08 03:45:04        2        1\n",
       "7  2014-02-03 03:45:04        2        1\n",
       "8  2014-02-08 03:45:04        2        1\n",
       "9  2014-02-09 03:45:04        2        1"
      ]
     },
     "metadata": {},
     "output_type": "display_data"
    },
    {
     "name": "stdout",
     "output_type": "stream",
     "text": [
      "\n"
     ]
    },
    {
     "data": {
      "text/plain": [
       "'user'"
      ]
     },
     "metadata": {},
     "output_type": "display_data"
    },
    {
     "data": {
      "text/html": [
       "<div>\n",
       "<style scoped>\n",
       "    .dataframe tbody tr th:only-of-type {\n",
       "        vertical-align: middle;\n",
       "    }\n",
       "\n",
       "    .dataframe tbody tr th {\n",
       "        vertical-align: top;\n",
       "    }\n",
       "\n",
       "    .dataframe thead th {\n",
       "        text-align: right;\n",
       "    }\n",
       "</style>\n",
       "<table border=\"1\" class=\"dataframe\">\n",
       "  <thead>\n",
       "    <tr style=\"text-align: right;\">\n",
       "      <th></th>\n",
       "      <th>0</th>\n",
       "      <th>1</th>\n",
       "      <th>2</th>\n",
       "    </tr>\n",
       "  </thead>\n",
       "  <tbody>\n",
       "    <tr>\n",
       "      <th>object_id</th>\n",
       "      <td>1</td>\n",
       "      <td>2</td>\n",
       "      <td>3</td>\n",
       "    </tr>\n",
       "    <tr>\n",
       "      <th>creation_time</th>\n",
       "      <td>2014-04-22 03:53:30</td>\n",
       "      <td>2013-11-15 03:45:04</td>\n",
       "      <td>2013-03-19 23:14:52</td>\n",
       "    </tr>\n",
       "    <tr>\n",
       "      <th>name</th>\n",
       "      <td>Clausen August</td>\n",
       "      <td>Poole Matthew</td>\n",
       "      <td>Bottrill Mitchell</td>\n",
       "    </tr>\n",
       "    <tr>\n",
       "      <th>email</th>\n",
       "      <td>AugustCClausen@yahoo.com</td>\n",
       "      <td>MatthewPoole@gustr.com</td>\n",
       "      <td>MitchellBottrill@gustr.com</td>\n",
       "    </tr>\n",
       "    <tr>\n",
       "      <th>creation_source</th>\n",
       "      <td>GUEST_INVITE</td>\n",
       "      <td>ORG_INVITE</td>\n",
       "      <td>ORG_INVITE</td>\n",
       "    </tr>\n",
       "    <tr>\n",
       "      <th>last_session_creation_time</th>\n",
       "      <td>1398138810.0</td>\n",
       "      <td>1396237504.0</td>\n",
       "      <td>1363734892.0</td>\n",
       "    </tr>\n",
       "    <tr>\n",
       "      <th>opted_in_to_mailing_list</th>\n",
       "      <td>1</td>\n",
       "      <td>0</td>\n",
       "      <td>0</td>\n",
       "    </tr>\n",
       "    <tr>\n",
       "      <th>enabled_for_marketing_drip</th>\n",
       "      <td>0</td>\n",
       "      <td>0</td>\n",
       "      <td>0</td>\n",
       "    </tr>\n",
       "    <tr>\n",
       "      <th>org_id</th>\n",
       "      <td>11</td>\n",
       "      <td>1</td>\n",
       "      <td>94</td>\n",
       "    </tr>\n",
       "    <tr>\n",
       "      <th>invited_by_user_id</th>\n",
       "      <td>10803.0</td>\n",
       "      <td>316.0</td>\n",
       "      <td>1525.0</td>\n",
       "    </tr>\n",
       "  </tbody>\n",
       "</table>\n",
       "</div>"
      ],
      "text/plain": [
       "                                                   0                       1  \\\n",
       "object_id                                          1                       2   \n",
       "creation_time                    2014-04-22 03:53:30     2013-11-15 03:45:04   \n",
       "name                                  Clausen August           Poole Matthew   \n",
       "email                       AugustCClausen@yahoo.com  MatthewPoole@gustr.com   \n",
       "creation_source                         GUEST_INVITE              ORG_INVITE   \n",
       "last_session_creation_time              1398138810.0            1396237504.0   \n",
       "opted_in_to_mailing_list                           1                       0   \n",
       "enabled_for_marketing_drip                         0                       0   \n",
       "org_id                                            11                       1   \n",
       "invited_by_user_id                           10803.0                   316.0   \n",
       "\n",
       "                                                     2  \n",
       "object_id                                            3  \n",
       "creation_time                      2013-03-19 23:14:52  \n",
       "name                                 Bottrill Mitchell  \n",
       "email                       MitchellBottrill@gustr.com  \n",
       "creation_source                             ORG_INVITE  \n",
       "last_session_creation_time                1363734892.0  \n",
       "opted_in_to_mailing_list                             0  \n",
       "enabled_for_marketing_drip                           0  \n",
       "org_id                                              94  \n",
       "invited_by_user_id                              1525.0  "
      ]
     },
     "metadata": {},
     "output_type": "display_data"
    }
   ],
   "source": [
    "#Display top 10 rows of the df\n",
    "display('engagement_df', engagement_df.head(10))\n",
    "print('')\n",
    "display('user', user_df.head(3).T)"
   ]
  },
  {
   "cell_type": "code",
   "execution_count": 13,
   "id": "ba3396b4",
   "metadata": {
    "colab": {
     "base_uri": "https://localhost:8080/"
    },
    "id": "ba3396b4",
    "outputId": "9663cf0d-40cb-4182-ff08-7482b191f607"
   },
   "outputs": [
    {
     "name": "stdout",
     "output_type": "stream",
     "text": [
      "<class 'pandas.core.frame.DataFrame'>\n",
      "RangeIndex: 207917 entries, 0 to 207916\n",
      "Data columns (total 3 columns):\n",
      " #   Column      Non-Null Count   Dtype \n",
      "---  ------      --------------   ----- \n",
      " 0   time_stamp  207917 non-null  object\n",
      " 1   user_id     207917 non-null  int64 \n",
      " 2   visited     207917 non-null  int64 \n",
      "dtypes: int64(2), object(1)\n",
      "memory usage: 4.8+ MB\n",
      "engagement_df None \n",
      "\n",
      "\n",
      "<class 'pandas.core.frame.DataFrame'>\n",
      "RangeIndex: 12000 entries, 0 to 11999\n",
      "Data columns (total 10 columns):\n",
      " #   Column                      Non-Null Count  Dtype  \n",
      "---  ------                      --------------  -----  \n",
      " 0   object_id                   12000 non-null  int64  \n",
      " 1   creation_time               12000 non-null  object \n",
      " 2   name                        12000 non-null  object \n",
      " 3   email                       12000 non-null  object \n",
      " 4   creation_source             12000 non-null  object \n",
      " 5   last_session_creation_time  8823 non-null   float64\n",
      " 6   opted_in_to_mailing_list    12000 non-null  int64  \n",
      " 7   enabled_for_marketing_drip  12000 non-null  int64  \n",
      " 8   org_id                      12000 non-null  int64  \n",
      " 9   invited_by_user_id          6417 non-null   float64\n",
      "dtypes: float64(2), int64(4), object(4)\n",
      "memory usage: 937.6+ KB\n",
      "user None\n"
     ]
    }
   ],
   "source": [
    "print('engagement_df', engagement_df.info(), '\\n\\n')\n",
    "print('user', user_df.info())"
   ]
  },
  {
   "cell_type": "code",
   "execution_count": 14,
   "id": "fe7d809f",
   "metadata": {
    "id": "fe7d809f",
    "scrolled": false
   },
   "outputs": [],
   "source": [
    "#describe_dataframe(engagement_df)"
   ]
  },
  {
   "cell_type": "code",
   "execution_count": 15,
   "id": "mSArduBjHdHx",
   "metadata": {
    "id": "mSArduBjHdHx"
   },
   "outputs": [],
   "source": [
    "#describe_dataframe(user)"
   ]
  },
  {
   "cell_type": "code",
   "execution_count": 16,
   "id": "3218803e",
   "metadata": {},
   "outputs": [
    {
     "data": {
      "text/plain": [
       "8823"
      ]
     },
     "execution_count": 16,
     "metadata": {},
     "output_type": "execute_result"
    }
   ],
   "source": [
    "#Number of unique user\n",
    "engagement_df['user_id'].nunique()"
   ]
  },
  {
   "cell_type": "code",
   "execution_count": 17,
   "id": "cf5b9f1c",
   "metadata": {},
   "outputs": [],
   "source": [
    "# Unique objects and number of unique objects\n",
    "print_unique = ['creation_source', 'opted_in_to_mailing_list', 'enabled_for_marketing_drip']\n",
    "count_unique = ['object_id', 'name', 'email', 'invited_by_user_id']"
   ]
  },
  {
   "cell_type": "code",
   "execution_count": 18,
   "id": "143d7484",
   "metadata": {},
   "outputs": [
    {
     "name": "stdout",
     "output_type": "stream",
     "text": [
      "object_id : 12000\n",
      "name : 11355\n",
      "email : 11980\n",
      "invited_by_user_id : 2564\n"
     ]
    }
   ],
   "source": [
    "for col in count_unique:\n",
    "    print(col, ':', user_df[col].nunique())"
   ]
  },
  {
   "cell_type": "code",
   "execution_count": 19,
   "id": "972d4778",
   "metadata": {},
   "outputs": [
    {
     "name": "stdout",
     "output_type": "stream",
     "text": [
      "creation_source : ['GUEST_INVITE', 'ORG_INVITE', 'SIGNUP', 'PERSONAL_PROJECTS', 'SIGNUP_GOOGLE_AUTH']\n",
      "opted_in_to_mailing_list : [1, 0]\n",
      "enabled_for_marketing_drip : [0, 1]\n"
     ]
    }
   ],
   "source": [
    "for col in print_unique:\n",
    "    print(col, ':', list(user_df[col].unique()))"
   ]
  },
  {
   "cell_type": "markdown",
   "id": "526f5bf6",
   "metadata": {
    "id": "526f5bf6"
   },
   "source": [
    "## Data cleaning"
   ]
  },
  {
   "cell_type": "code",
   "execution_count": 20,
   "id": "bc19c8fc",
   "metadata": {},
   "outputs": [],
   "source": [
    "#Drop personal information that are not needed\n",
    "user_df.drop(columns = ['name', 'email'], inplace=True)"
   ]
  },
  {
   "cell_type": "code",
   "execution_count": 21,
   "id": "17e005e1",
   "metadata": {},
   "outputs": [
    {
     "data": {
      "text/plain": [
       "time_stamp    object\n",
       "user_id        int64\n",
       "visited        int64\n",
       "dtype: object"
      ]
     },
     "execution_count": 21,
     "metadata": {},
     "output_type": "execute_result"
    }
   ],
   "source": [
    "engagement_df.dtypes"
   ]
  },
  {
   "cell_type": "code",
   "execution_count": 22,
   "id": "ef346ceb",
   "metadata": {},
   "outputs": [
    {
     "data": {
      "text/plain": [
       "object_id                       int64\n",
       "creation_time                  object\n",
       "creation_source                object\n",
       "last_session_creation_time    float64\n",
       "opted_in_to_mailing_list        int64\n",
       "enabled_for_marketing_drip      int64\n",
       "org_id                          int64\n",
       "invited_by_user_id            float64\n",
       "dtype: object"
      ]
     },
     "execution_count": 22,
     "metadata": {},
     "output_type": "execute_result"
    }
   ],
   "source": [
    "user_df.dtypes"
   ]
  },
  {
   "cell_type": "markdown",
   "id": "1f3bab0e",
   "metadata": {
    "id": "1f3bab0e"
   },
   "source": [
    "## Handling of missing data"
   ]
  },
  {
   "cell_type": "code",
   "execution_count": 23,
   "id": "e6a57af3",
   "metadata": {},
   "outputs": [
    {
     "name": "stdout",
     "output_type": "stream",
     "text": [
      "\n",
      "Missing data stasts\n"
     ]
    },
    {
     "data": {
      "text/html": [
       "<div>\n",
       "<style scoped>\n",
       "    .dataframe tbody tr th:only-of-type {\n",
       "        vertical-align: middle;\n",
       "    }\n",
       "\n",
       "    .dataframe tbody tr th {\n",
       "        vertical-align: top;\n",
       "    }\n",
       "\n",
       "    .dataframe thead th {\n",
       "        text-align: right;\n",
       "    }\n",
       "</style>\n",
       "<table border=\"1\" class=\"dataframe\">\n",
       "  <thead>\n",
       "    <tr style=\"text-align: right;\">\n",
       "      <th></th>\n",
       "      <th>count</th>\n",
       "      <th>%</th>\n",
       "    </tr>\n",
       "  </thead>\n",
       "  <tbody>\n",
       "    <tr>\n",
       "      <th>invited_by_user_id</th>\n",
       "      <td>5583</td>\n",
       "      <td>46.525</td>\n",
       "    </tr>\n",
       "    <tr>\n",
       "      <th>last_session_creation_time</th>\n",
       "      <td>3177</td>\n",
       "      <td>26.475</td>\n",
       "    </tr>\n",
       "  </tbody>\n",
       "</table>\n",
       "</div>"
      ],
      "text/plain": [
       "                            count       %\n",
       "invited_by_user_id           5583  46.525\n",
       "last_session_creation_time   3177  26.475"
      ]
     },
     "execution_count": 23,
     "metadata": {},
     "output_type": "execute_result"
    }
   ],
   "source": [
    "# missing data stats\n",
    "count_missing(user_df)"
   ]
  },
  {
   "cell_type": "code",
   "execution_count": 24,
   "id": "de5c95cd",
   "metadata": {
    "id": "de5c95cd"
   },
   "outputs": [],
   "source": [
    "# Replace NaN values with a default value, e.g. -1\n",
    "user_df['last_session_creation_time'].fillna(0, inplace=True)"
   ]
  },
  {
   "cell_type": "code",
   "execution_count": 25,
   "id": "fe7663af",
   "metadata": {},
   "outputs": [],
   "source": [
    "# Replace NaN values with a default value 0\n",
    "user_df['invited_by_user_id'].fillna(-1, inplace=True)"
   ]
  },
  {
   "cell_type": "code",
   "execution_count": 26,
   "id": "b94a6bc9",
   "metadata": {},
   "outputs": [
    {
     "name": "stdout",
     "output_type": "stream",
     "text": [
      "\n",
      "Missing data stasts\n"
     ]
    },
    {
     "data": {
      "text/html": [
       "<div>\n",
       "<style scoped>\n",
       "    .dataframe tbody tr th:only-of-type {\n",
       "        vertical-align: middle;\n",
       "    }\n",
       "\n",
       "    .dataframe tbody tr th {\n",
       "        vertical-align: top;\n",
       "    }\n",
       "\n",
       "    .dataframe thead th {\n",
       "        text-align: right;\n",
       "    }\n",
       "</style>\n",
       "<table border=\"1\" class=\"dataframe\">\n",
       "  <thead>\n",
       "    <tr style=\"text-align: right;\">\n",
       "      <th></th>\n",
       "      <th>count</th>\n",
       "      <th>%</th>\n",
       "    </tr>\n",
       "  </thead>\n",
       "  <tbody>\n",
       "  </tbody>\n",
       "</table>\n",
       "</div>"
      ],
      "text/plain": [
       "Empty DataFrame\n",
       "Columns: [count, %]\n",
       "Index: []"
      ]
     },
     "execution_count": 26,
     "metadata": {},
     "output_type": "execute_result"
    }
   ],
   "source": [
    "# missing data stats\n",
    "count_missing(user_df)"
   ]
  },
  {
   "cell_type": "code",
   "execution_count": 27,
   "id": "81e34690",
   "metadata": {},
   "outputs": [
    {
     "name": "stdout",
     "output_type": "stream",
     "text": [
      "\n",
      "Missing data stasts\n"
     ]
    },
    {
     "data": {
      "text/html": [
       "<div>\n",
       "<style scoped>\n",
       "    .dataframe tbody tr th:only-of-type {\n",
       "        vertical-align: middle;\n",
       "    }\n",
       "\n",
       "    .dataframe tbody tr th {\n",
       "        vertical-align: top;\n",
       "    }\n",
       "\n",
       "    .dataframe thead th {\n",
       "        text-align: right;\n",
       "    }\n",
       "</style>\n",
       "<table border=\"1\" class=\"dataframe\">\n",
       "  <thead>\n",
       "    <tr style=\"text-align: right;\">\n",
       "      <th></th>\n",
       "      <th>count</th>\n",
       "      <th>%</th>\n",
       "    </tr>\n",
       "  </thead>\n",
       "  <tbody>\n",
       "  </tbody>\n",
       "</table>\n",
       "</div>"
      ],
      "text/plain": [
       "Empty DataFrame\n",
       "Columns: [count, %]\n",
       "Index: []"
      ]
     },
     "execution_count": 27,
     "metadata": {},
     "output_type": "execute_result"
    }
   ],
   "source": [
    "# missing data stats\n",
    "count_missing(engagement_df)"
   ]
  },
  {
   "cell_type": "markdown",
   "id": "cd2e5d21",
   "metadata": {
    "id": "cd2e5d21"
   },
   "source": [
    "## Feature engineering"
   ]
  },
  {
   "cell_type": "markdown",
   "id": "8864d180",
   "metadata": {},
   "source": [
    "### Join dataframes"
   ]
  },
  {
   "cell_type": "code",
   "execution_count": 31,
   "id": "05cebcea",
   "metadata": {},
   "outputs": [],
   "source": [
    "df = pd.merge(user_df, engagement_df, left_on='object_id', right_on='user_id')"
   ]
  },
  {
   "cell_type": "markdown",
   "id": "fd48d12b",
   "metadata": {},
   "source": [
    "### Date formatting"
   ]
  },
  {
   "cell_type": "code",
   "execution_count": 32,
   "id": "f03b6855",
   "metadata": {},
   "outputs": [],
   "source": [
    "# Set datetime formt used in the dataset\n",
    "datetime_format = '%Y-%m-%d %H:%M:%S'\n",
    "\n",
    "#Change `date_columns` coluumn data type to `datetime`\n",
    "engagement_df['time_stamp'] = pd.to_datetime(engagement_df['time_stamp'], format=datetime_format, errors=\"raise\")\n",
    "df['creation_time'] = pd.to_datetime(df['creation_time'], format=datetime_format, errors=\"raise\")\n",
    "df['last_session_creation_time'] = pd.to_datetime(df['last_session_creation_time'], unit='s')"
   ]
  },
  {
   "cell_type": "markdown",
   "id": "235c6237",
   "metadata": {},
   "source": [
    "### Add `adopted_use` feature"
   ]
  },
  {
   "cell_type": "code",
   "execution_count": 33,
   "id": "d21658ee",
   "metadata": {},
   "outputs": [],
   "source": [
    "def adopted_user_checker(df, days=7, logins=3):\n",
    "    '''Define a function to see if a user logged in on 3 seperate days in a 7-day period.'''\n",
    "    #imports\n",
    "    from datetime import timedelta\n",
    "    \n",
    "    #extract date\n",
    "    df['time_stamp'] = pd.to_datetime(df['time_stamp'])\n",
    "    df['date'] = df['time_stamp'].dt.date\n",
    "    \n",
    "    # first drop duplicate days and sort by day\n",
    "    df = df.drop_duplicates(subset='date').sort_values('date')\n",
    "    \n",
    "    # calculate how many days has passed for every 3 logins\n",
    "    passed_days = df['date'].diff(periods=logins-1)\n",
    "    \n",
    "    # check if any passed time is less than 7 days\n",
    "    return any(passed_days <= timedelta(days=days))"
   ]
  },
  {
   "cell_type": "code",
   "execution_count": 34,
   "id": "8101d920",
   "metadata": {},
   "outputs": [],
   "source": [
    "# run the function on all users\n",
    "adopted = engagement_df.groupby('user_id').apply(adopted_user_checker)"
   ]
  },
  {
   "cell_type": "code",
   "execution_count": 35,
   "id": "d23d9d9b",
   "metadata": {
    "scrolled": true
   },
   "outputs": [
    {
     "data": {
      "text/html": [
       "<div>\n",
       "<style scoped>\n",
       "    .dataframe tbody tr th:only-of-type {\n",
       "        vertical-align: middle;\n",
       "    }\n",
       "\n",
       "    .dataframe tbody tr th {\n",
       "        vertical-align: top;\n",
       "    }\n",
       "\n",
       "    .dataframe thead th {\n",
       "        text-align: right;\n",
       "    }\n",
       "</style>\n",
       "<table border=\"1\" class=\"dataframe\">\n",
       "  <thead>\n",
       "    <tr style=\"text-align: right;\">\n",
       "      <th></th>\n",
       "      <th>adapted_user</th>\n",
       "    </tr>\n",
       "    <tr>\n",
       "      <th>user_id</th>\n",
       "      <th></th>\n",
       "    </tr>\n",
       "  </thead>\n",
       "  <tbody>\n",
       "    <tr>\n",
       "      <th>1</th>\n",
       "      <td>False</td>\n",
       "    </tr>\n",
       "    <tr>\n",
       "      <th>2</th>\n",
       "      <td>True</td>\n",
       "    </tr>\n",
       "    <tr>\n",
       "      <th>3</th>\n",
       "      <td>False</td>\n",
       "    </tr>\n",
       "    <tr>\n",
       "      <th>4</th>\n",
       "      <td>False</td>\n",
       "    </tr>\n",
       "    <tr>\n",
       "      <th>5</th>\n",
       "      <td>False</td>\n",
       "    </tr>\n",
       "  </tbody>\n",
       "</table>\n",
       "</div>"
      ],
      "text/plain": [
       "         adapted_user\n",
       "user_id              \n",
       "1               False\n",
       "2                True\n",
       "3               False\n",
       "4               False\n",
       "5               False"
      ]
     },
     "execution_count": 35,
     "metadata": {},
     "output_type": "execute_result"
    }
   ],
   "source": [
    "#pass series to a dataframe and name `adapter_user`\n",
    "adopted_df = pd.DataFrame(adopted)\n",
    "adopted_df.columns = ['adapted_user']\n",
    "adopted_df.head()"
   ]
  },
  {
   "cell_type": "code",
   "execution_count": 36,
   "id": "58059d81",
   "metadata": {},
   "outputs": [
    {
     "name": "stdout",
     "output_type": "stream",
     "text": [
      "count adopted users : 1656\n",
      "count total users : 8823\n",
      "adopttion ratio : 18.77%\n"
     ]
    }
   ],
   "source": [
    "print('count adopted users :', adopted_df.sum()[0])\n",
    "print('count total users :', len(adopted_df))\n",
    "print(f'adopttion ratio : {100*adopted_df.sum()[0]/len(adopted_df):.2f}%')"
   ]
  },
  {
   "cell_type": "markdown",
   "id": "74481707",
   "metadata": {},
   "source": [
    "### Create new feature as `by_invitation`"
   ]
  },
  {
   "cell_type": "code",
   "execution_count": 37,
   "id": "aee6e154",
   "metadata": {},
   "outputs": [],
   "source": [
    "# Convert float column A to integer type\n",
    "df['invited_by_user_id'] = df['invited_by_user_id'].astype(int)"
   ]
  },
  {
   "cell_type": "code",
   "execution_count": 38,
   "id": "e47c971b",
   "metadata": {},
   "outputs": [],
   "source": [
    "# create a new column 'by_invitation' based on the values of the 'invited_by_user_id' column\n",
    "df['by_invitation'] = np.where(df['invited_by_user_id'] == -1, 0, 1)"
   ]
  },
  {
   "cell_type": "markdown",
   "id": "5b47c137",
   "metadata": {
    "colab": {
     "base_uri": "https://localhost:8080/",
     "height": 457
    },
    "id": "5bbdc79d",
    "outputId": "db02a4b2-9316-4409-dfdc-f435a5d55cf1"
   },
   "source": [
    "### New feature to count activity days"
   ]
  },
  {
   "cell_type": "code",
   "execution_count": 39,
   "id": "fca30dcc",
   "metadata": {},
   "outputs": [],
   "source": [
    "#Find the max date value in last session\n",
    "last_date = max(df['last_session_creation_time'])\n",
    "\n",
    "df['days_since_creation'] = (last_date - df['creation_time']).dt.days\n",
    "df['days_last_session'] = (last_date - df['last_session_creation_time']).dt.days"
   ]
  },
  {
   "cell_type": "markdown",
   "id": "5cabd711",
   "metadata": {},
   "source": [
    "### Drop extra columns"
   ]
  },
  {
   "cell_type": "code",
   "execution_count": 40,
   "id": "acde491a",
   "metadata": {},
   "outputs": [],
   "source": [
    "df.drop(columns=['creation_time', 'last_session_creation_time', time_stamp], inplace=True)"
   ]
  },
  {
   "cell_type": "code",
   "execution_count": 41,
   "id": "bb388a55",
   "metadata": {},
   "outputs": [
    {
     "data": {
      "text/html": [
       "<div>\n",
       "<style scoped>\n",
       "    .dataframe tbody tr th:only-of-type {\n",
       "        vertical-align: middle;\n",
       "    }\n",
       "\n",
       "    .dataframe tbody tr th {\n",
       "        vertical-align: top;\n",
       "    }\n",
       "\n",
       "    .dataframe thead th {\n",
       "        text-align: right;\n",
       "    }\n",
       "</style>\n",
       "<table border=\"1\" class=\"dataframe\">\n",
       "  <thead>\n",
       "    <tr style=\"text-align: right;\">\n",
       "      <th></th>\n",
       "      <th>101212</th>\n",
       "    </tr>\n",
       "  </thead>\n",
       "  <tbody>\n",
       "    <tr>\n",
       "      <th>object_id</th>\n",
       "      <td>5516</td>\n",
       "    </tr>\n",
       "    <tr>\n",
       "      <th>creation_source</th>\n",
       "      <td>ORG_INVITE</td>\n",
       "    </tr>\n",
       "    <tr>\n",
       "      <th>opted_in_to_mailing_list</th>\n",
       "      <td>1</td>\n",
       "    </tr>\n",
       "    <tr>\n",
       "      <th>enabled_for_marketing_drip</th>\n",
       "      <td>0</td>\n",
       "    </tr>\n",
       "    <tr>\n",
       "      <th>org_id</th>\n",
       "      <td>91</td>\n",
       "    </tr>\n",
       "    <tr>\n",
       "      <th>invited_by_user_id</th>\n",
       "      <td>5516</td>\n",
       "    </tr>\n",
       "    <tr>\n",
       "      <th>time_stamp</th>\n",
       "      <td>2012-09-12 21:10:29</td>\n",
       "    </tr>\n",
       "    <tr>\n",
       "      <th>user_id</th>\n",
       "      <td>5516</td>\n",
       "    </tr>\n",
       "    <tr>\n",
       "      <th>visited</th>\n",
       "      <td>1</td>\n",
       "    </tr>\n",
       "    <tr>\n",
       "      <th>by_invitation</th>\n",
       "      <td>1</td>\n",
       "    </tr>\n",
       "    <tr>\n",
       "      <th>days_since_creation</th>\n",
       "      <td>659</td>\n",
       "    </tr>\n",
       "    <tr>\n",
       "      <th>days_last_session</th>\n",
       "      <td>605</td>\n",
       "    </tr>\n",
       "  </tbody>\n",
       "</table>\n",
       "</div>"
      ],
      "text/plain": [
       "                                         101212\n",
       "object_id                                  5516\n",
       "creation_source                      ORG_INVITE\n",
       "opted_in_to_mailing_list                      1\n",
       "enabled_for_marketing_drip                    0\n",
       "org_id                                       91\n",
       "invited_by_user_id                         5516\n",
       "time_stamp                  2012-09-12 21:10:29\n",
       "user_id                                    5516\n",
       "visited                                       1\n",
       "by_invitation                                 1\n",
       "days_since_creation                         659\n",
       "days_last_session                           605"
      ]
     },
     "execution_count": 41,
     "metadata": {},
     "output_type": "execute_result"
    }
   ],
   "source": [
    "df.sample(1).T"
   ]
  },
  {
   "cell_type": "markdown",
   "id": "d0ad8223",
   "metadata": {
    "id": "d0ad8223"
   },
   "source": [
    "# 4. Exploratory Data Analysis (EDA):"
   ]
  },
  {
   "cell_type": "markdown",
   "id": "56aac9bb",
   "metadata": {},
   "source": [
    "### Plot referrals by users"
   ]
  },
  {
   "cell_type": "code",
   "execution_count": null,
   "id": "ac4d3f7d",
   "metadata": {},
   "outputs": [],
   "source": [
    "#Count referrals by users\n",
    "referred_by_df = pd.DataFrame(df['invited_by_user_id'].value_counts())\n",
    "referred_by_df = referred_by_df.reset_index()\n",
    "referred_by_df.columns = ['user_id', 'conut']"
   ]
  },
  {
   "cell_type": "code",
   "execution_count": null,
   "id": "f3cf7f53",
   "metadata": {},
   "outputs": [],
   "source": [
    "print('\\nNumber of users joined without referrals:')\n",
    "referred_by_df.loc[[0]]"
   ]
  },
  {
   "cell_type": "code",
   "execution_count": null,
   "id": "4d52dd73",
   "metadata": {},
   "outputs": [],
   "source": [
    "#drop users without referrals\n",
    "user_referral_df_plot = referred_by_df.drop([0], axis=0)\n",
    "user_referral_df_plot.head()"
   ]
  },
  {
   "cell_type": "code",
   "execution_count": null,
   "id": "63a8a01a",
   "metadata": {},
   "outputs": [],
   "source": [
    "plt.figure(figsize=(10,4))\n",
    "\n",
    "sns.scatterplot(data=user_referral_df_plot,\n",
    "                x=user_referral_df_plot.index,\n",
    "                y='conut')\n",
    "\n",
    "plt.xlabel('referring user')\n",
    "plt.ylabel('user count')\n",
    "plt.show()"
   ]
  },
  {
   "cell_type": "code",
   "execution_count": null,
   "id": "8fd500f8",
   "metadata": {},
   "outputs": [],
   "source": []
  },
  {
   "cell_type": "markdown",
   "id": "8254248e",
   "metadata": {},
   "source": [
    "### Plot count of users per organization "
   ]
  },
  {
   "cell_type": "code",
   "execution_count": null,
   "id": "eb215c9b",
   "metadata": {},
   "outputs": [],
   "source": [
    "#Count users in organizations\n",
    "org_id_df = pd.DataFrame(df['org_id'].value_counts())\n",
    "org_id_df = org_id_df.reset_index()\n",
    "org_id_df.columns = ['org_id', 'conut']"
   ]
  },
  {
   "cell_type": "code",
   "execution_count": null,
   "id": "66765777",
   "metadata": {},
   "outputs": [],
   "source": [
    "plt.figure(figsize=(10,4))\n",
    "\n",
    "sns.scatterplot(data=org_id_df,\n",
    "                x=org_id_df.index,\n",
    "                y='conut')\n",
    "\n",
    "plt.xlabel('org_id')\n",
    "plt.ylabel('count')\n",
    "plt.show()"
   ]
  },
  {
   "cell_type": "markdown",
   "id": "1458f586",
   "metadata": {
    "id": "1458f586"
   },
   "source": [
    "Define Categorical vs numerical features"
   ]
  },
  {
   "cell_type": "code",
   "execution_count": null,
   "id": "b620e48c",
   "metadata": {
    "id": "b620e48c"
   },
   "outputs": [],
   "source": [
    "#Define categrical and numerical data\n",
    "num_columns = ['trips_in_first_30_days', 'avg_rating_of_driver', 'avg_rating_by_driver',\n",
    "             'avg_surge', 'surge_pct', 'weekday_pct',  'avg_dist',  \n",
    "             'since_signup_date']\n",
    "\n",
    "#Seperate categorical data\n",
    "cat_columns = ['city_Astapor', \"city_King's Landing\", 'city_Winterfell',  'ultimate_black_user']"
   ]
  },
  {
   "cell_type": "markdown",
   "id": "16579bb5",
   "metadata": {
    "id": "16579bb5"
   },
   "source": [
    "## Categorical Features"
   ]
  },
  {
   "cell_type": "markdown",
   "id": "9490a7b7",
   "metadata": {
    "id": "9490a7b7"
   },
   "source": [
    "### Stats"
   ]
  },
  {
   "cell_type": "code",
   "execution_count": null,
   "id": "5bc423fa",
   "metadata": {
    "colab": {
     "base_uri": "https://localhost:8080/",
     "height": 395
    },
    "id": "5bc423fa",
    "outputId": "370e8011-af0a-4599-cd50-d55fe853a60c"
   },
   "outputs": [],
   "source": [
    "#create a pivot table for categorical columns\n",
    "dfg_cat = pd.DataFrame(engagement_dfhat.groupby('active')[cat_columns].sum()).reset_index()\n",
    "display(dfg_cat)\n",
    "\n",
    "# metlt the pivot table to plotable features\n",
    "dfg_cat_melt = pd.melt(dfg_cat, id_vars = ['active'], var_name='Feature', value_name = 'Count')\n",
    "display(dfg_cat_melt)"
   ]
  },
  {
   "cell_type": "markdown",
   "id": "e582b409",
   "metadata": {
    "id": "e582b409"
   },
   "source": [
    "### Plots"
   ]
  },
  {
   "cell_type": "code",
   "execution_count": null,
   "id": "7ac03a5a",
   "metadata": {
    "colab": {
     "base_uri": "https://localhost:8080/",
     "height": 350
    },
    "id": "7ac03a5a",
    "outputId": "b2059c2c-4886-4df0-a95d-7eab98c55b69"
   },
   "outputs": [],
   "source": [
    "# Set the hue for the 'active' column\n",
    "hue_order = [True, False]\n",
    "\n",
    "#Plot the `dfg_melt`\n",
    "fig, ax = plt.subplots(figsize=(7, 5))\n",
    "sns.barplot(data=dfg_cat_melt, y='Feature', x='Count', hue = 'active', hue_order=hue_order)\n",
    "plt.title('Categorical Features')\n",
    "plt.show()"
   ]
  },
  {
   "cell_type": "markdown",
   "id": "a0e37fd5",
   "metadata": {
    "id": "a0e37fd5"
   },
   "source": [
    "## Numerical Features"
   ]
  },
  {
   "cell_type": "markdown",
   "id": "d27883ef",
   "metadata": {
    "id": "d27883ef"
   },
   "source": [
    "### Stats"
   ]
  },
  {
   "cell_type": "code",
   "execution_count": null,
   "id": "932b1bd5",
   "metadata": {
    "id": "932b1bd5"
   },
   "outputs": [],
   "source": [
    "#seperate active and disactive\n",
    "df_active_num = engagement_dfhat[num_columns].loc[engagement_dfhat['active'] == 1]\n",
    "df_disactive_num = engagement_dfhat[num_columns].loc[~engagement_dfhat['active'] == 1]"
   ]
  },
  {
   "cell_type": "code",
   "execution_count": null,
   "id": "b155c240",
   "metadata": {
    "id": "b155c240"
   },
   "outputs": [],
   "source": [
    "#Calcualte stats \n",
    "#Active \n",
    "df_active_describe= df_active_num.describe().loc[['count', 'mean', 'std']].T\n",
    "df_active_describe['cv'] = df_active_describe['std']/df_active_describe['mean']\n",
    "df_active_describe['active'] = 1\n",
    "\n",
    "#Disactive\n",
    "df_disactive_describe= df_disactive_num.describe().loc[['count', 'mean', 'std']].T\n",
    "df_disactive_describe['cv'] = df_disactive_describe['std']/df_disactive_describe['mean']\n",
    "df_disactive_describe['active'] = 0"
   ]
  },
  {
   "cell_type": "code",
   "execution_count": null,
   "id": "de09abfa",
   "metadata": {
    "colab": {
     "base_uri": "https://localhost:8080/",
     "height": 551
    },
    "id": "de09abfa",
    "outputId": "97f07805-ef92-4396-cfd4-1daf76281042",
    "scrolled": false
   },
   "outputs": [],
   "source": [
    "#Concat stat tables\n",
    "df_num_describe = pd.concat([df_active_describe,df_disactive_describe],axis = 0)\n",
    "\n",
    "display(df_num_describe)"
   ]
  },
  {
   "cell_type": "markdown",
   "id": "1f141c49",
   "metadata": {
    "id": "1f141c49"
   },
   "source": [
    "### Plots"
   ]
  },
  {
   "cell_type": "code",
   "execution_count": null,
   "id": "1039c8a7",
   "metadata": {
    "colab": {
     "base_uri": "https://localhost:8080/",
     "height": 716
    },
    "id": "1039c8a7",
    "outputId": "d3821739-ca0a-4ee0-a8f3-994a2ec1b7bb"
   },
   "outputs": [],
   "source": [
    "#Plot histogram of all features\n",
    "engagement_dfhat.hist(figsize=(12,12), bins = 12)\n",
    "plt.subplots_adjust(hspace=0.5)"
   ]
  },
  {
   "cell_type": "code",
   "execution_count": null,
   "id": "c09d2b1a",
   "metadata": {
    "colab": {
     "base_uri": "https://localhost:8080/",
     "height": 310
    },
    "id": "c09d2b1a",
    "outputId": "6b0d3ef9-2f86-4c80-ba4e-394a8064cb01",
    "scrolled": false
   },
   "outputs": [],
   "source": [
    "# Set the hue for the 'active' column\n",
    "hue_order = [True, False]\n",
    "\n",
    "#Plot the stats\n",
    "fig, axes = plt.subplots(nrows=1, ncols=2, figsize=(14, 5))\n",
    "\n",
    "#plot mean values\n",
    "sns.barplot(data = df_num_describe,\n",
    "            y = df_num_describe.index,\n",
    "            x = 'mean',\n",
    "            hue = 'active',\n",
    "            hue_order = hue_order,\n",
    "            ax=axes[0])\n",
    "axes[0].set_title('Mean Values')\n",
    "\n",
    "#plot cv values\n",
    "sns.barplot(data = df_num_describe,\n",
    "            y = df_num_describe.index,\n",
    "            x = 'cv',\n",
    "            hue = 'active',\n",
    "            hue_order = hue_order,\n",
    "            ax=axes[1])\n",
    "axes[1].set_title('Coefincent of Variance (CV)')\n",
    "\n",
    "plt.tight_layout()\n",
    "plt.show()"
   ]
  },
  {
   "cell_type": "code",
   "execution_count": null,
   "id": "d4298161",
   "metadata": {
    "colab": {
     "base_uri": "https://localhost:8080/",
     "height": 537
    },
    "id": "d4298161",
    "outputId": "0689222d-d7d1-4a5d-ebd7-7b82a536f9b0"
   },
   "outputs": [],
   "source": [
    "fig, ax = plt.subplots(figsize=(7,9))\n",
    "\n",
    "sns.boxplot(data = engagement_dfhat,\n",
    "            orient = 'h',\n",
    "            width=0.8,\n",
    "            palette='crest',\n",
    "            linewidth= 1,\n",
    "            sym = '')\n",
    "plt.show()"
   ]
  },
  {
   "cell_type": "code",
   "execution_count": null,
   "id": "571ef937",
   "metadata": {
    "colab": {
     "base_uri": "https://localhost:8080/",
     "height": 803
    },
    "id": "571ef937",
    "outputId": "a67eb423-5f08-48da-d2df-9abb63fbf78d",
    "scrolled": false
   },
   "outputs": [],
   "source": [
    "df_plot = engagement_dfhat.sample(100)\n",
    "\n",
    "# Set the style of the plots\n",
    "sns.set(style=\"ticks\", color_codes=True)\n",
    "\n",
    "# Set the hue for the 'active' column\n",
    "hue_order = [True, False]\n",
    "\n",
    "# Plot histograms of numerical columns\n",
    "g = sns.pairplot(df_plot, diag_kind=\"kde\", hue='active', vars = num_columns, hue_order=hue_order)\n",
    "plt.show()"
   ]
  },
  {
   "cell_type": "markdown",
   "id": "71fe333a",
   "metadata": {
    "id": "71fe333a"
   },
   "source": [
    "## Multivariate Analysis"
   ]
  },
  {
   "cell_type": "code",
   "execution_count": null,
   "id": "ba465e73",
   "metadata": {
    "id": "ba465e73"
   },
   "outputs": [],
   "source": [
    "def plot_corr_matrix (df, round_vals, mask = True):\n",
    "    '''This function plots Correlation matrix'''\n",
    "    \n",
    "    # Compute the correlation matrix\n",
    "    corr = df.corr()\n",
    "        \n",
    "    # Generate a mask for the upper triangle\n",
    "    if mask:\n",
    "        mask = np.triu(np.ones_like(corr, dtype=bool))\n",
    "    \n",
    "    # Set up the matplotlib figure\n",
    "    f, ax = plt.subplots(figsize=(20, 9))\n",
    "\n",
    "    # Draw the heatmap with the mask and correct aspect ratio\n",
    "    sns.heatmap(corr.round(round_vals), mask=mask, cmap='coolwarm', vmin = -1, vmax=1, center=0, annot=True,\n",
    "                square=True, linewidths=.5, cbar_kws={\"shrink\": .5}).set(title='Pearson Correlation Matrix')\n",
    "\n",
    "    plt.show()"
   ]
  },
  {
   "cell_type": "code",
   "execution_count": null,
   "id": "6d401324",
   "metadata": {
    "colab": {
     "base_uri": "https://localhost:8080/",
     "height": 665
    },
    "id": "6d401324",
    "outputId": "78482ecb-dda2-4761-dc60-078f01ddacfb"
   },
   "outputs": [],
   "source": [
    "#Plot Corr matrix\n",
    "plot_corr_matrix(df=engagement_dfhat, round_vals=2, mask = True)"
   ]
  },
  {
   "cell_type": "code",
   "execution_count": null,
   "id": "2462eebd",
   "metadata": {
    "id": "2462eebd"
   },
   "outputs": [],
   "source": [
    "def plot_pps_matrix(df, round_vals=2, mask = True):\n",
    "    '''This function gets a df and plot PPS score matrix'''\n",
    "    \n",
    "    # Compute the PPS matrix\n",
    "    matrix = pps.matrix(df)\n",
    "\n",
    "    #Plot PPS\n",
    "    matrix_pps = matrix[['x', 'y', 'ppscore']].pivot(columns='x', index='y', values='ppscore')\n",
    "\n",
    "    # Generate a mask for the upper triangle\n",
    "    if mask:\n",
    "        mask = np.triu(np.ones_like(matrix_pps, dtype=bool))\n",
    "\n",
    "    # Set up the matplotlib figure\n",
    "    f, ax = plt.subplots(figsize=(20, 9))\n",
    "\n",
    "    # Draw the heatmap with the mask and correct aspect ratio\n",
    "    sns.heatmap(matrix_pps.round(round_vals), mask = mask, cmap=\"Blues\", vmin = 0, vmax=1, center=0.5,\n",
    "                square=True, linewidths=.5,annot=True, cbar_kws={\"shrink\": .5}).set(title='PPS Matrix')\n",
    "    plt.show()\n"
   ]
  },
  {
   "cell_type": "code",
   "execution_count": null,
   "id": "d4f4201f",
   "metadata": {
    "colab": {
     "base_uri": "https://localhost:8080/",
     "height": 682
    },
    "id": "d4f4201f",
    "outputId": "cf8f1bdf-5ef9-43a3-89b7-1d4d15572f12"
   },
   "outputs": [],
   "source": [
    "    #Plot PPS\n",
    "plot_pps_matrix(df=engagement_dfhat, round_vals=2, mask=True)"
   ]
  },
  {
   "cell_type": "markdown",
   "id": "f9a3b79f",
   "metadata": {
    "id": "f9a3b79f"
   },
   "source": [
    "# 5. Model Building"
   ]
  },
  {
   "cell_type": "markdown",
   "id": "0cpxsaW5zZ_l",
   "metadata": {
    "id": "0cpxsaW5zZ_l"
   },
   "source": [
    "## Import PyCaret libraries"
   ]
  },
  {
   "cell_type": "code",
   "execution_count": null,
   "id": "d629bcf0",
   "metadata": {
    "colab": {
     "base_uri": "https://localhost:8080/",
     "height": 35
    },
    "id": "d629bcf0",
    "outputId": "95961ffb-792b-45c0-d1dc-eace12c90f2e"
   },
   "outputs": [],
   "source": [
    "from pycaret.classification import *\n",
    "\n",
    "# check version\n",
    "from pycaret.utils import version\n",
    "version()"
   ]
  },
  {
   "cell_type": "markdown",
   "id": "c333eca2",
   "metadata": {
    "id": "c333eca2"
   },
   "source": [
    "## Initialize Setup"
   ]
  },
  {
   "cell_type": "code",
   "execution_count": null,
   "id": "a753d0b8",
   "metadata": {
    "colab": {
     "base_uri": "https://localhost:8080/",
     "height": 457
    },
    "id": "a753d0b8",
    "outputId": "8c6825ea-89fa-4872-ab61-8c3486474cbd"
   },
   "outputs": [],
   "source": [
    "#set pointer to engagement_dfhat\n",
    "data = engagement_dfhat\n",
    "data.head().T"
   ]
  },
  {
   "cell_type": "code",
   "execution_count": null,
   "id": "573e405e",
   "metadata": {
    "colab": {
     "base_uri": "https://localhost:8080/",
     "height": 1000,
     "referenced_widgets": [
      "dc835f1a24b044e9b2b5bd1efcff42e6",
      "115517ebfb0a42618308081ef127cd7a",
      "a75a6cba8c2844a4b03ba970c0ef5e3c",
      "3dbe01c3671147aaadd4ab1df3363182",
      "09e30edc60a74959bda1c7a95ad8da6a",
      "db57787656c74267a1dcf8484e023c62"
     ]
    },
    "id": "573e405e",
    "outputId": "9693392f-9b2d-46b6-91c6-237c1cb5d63c",
    "scrolled": false
   },
   "outputs": [],
   "source": [
    "#Setup Pycaret Regression session\n",
    "#Transform dataset, normalize and split the dataset.\n",
    "#Log experiments and plots for experiments to be viewed later with MLflow. \n",
    "\n",
    "clf1 = setup(data=data,\n",
    "             target = 'active',\n",
    "             session_id=123,\n",
    "             log_experiment=True,\n",
    "             transformation=True,\n",
    "             train_size=0.7,\n",
    "             categorical_features= cat_columns,\n",
    "             log_plots=True)"
   ]
  },
  {
   "cell_type": "markdown",
   "id": "-l807mAgd4zO",
   "metadata": {
    "id": "-l807mAgd4zO"
   },
   "source": [
    "\n",
    "## Compare Models"
   ]
  },
  {
   "cell_type": "code",
   "execution_count": null,
   "id": "19b9932f",
   "metadata": {
    "colab": {
     "base_uri": "https://localhost:8080/",
     "height": 1000,
     "referenced_widgets": [
      "7763d5ce1c2c4acaa59a662418f8d6bd",
      "ff3ce3534d53401898c384af67b08db2",
      "af908b92aac44f1ca4ebbe07a09f47b3"
     ]
    },
    "id": "19b9932f",
    "outputId": "cd2021ee-c759-49d2-d6cb-44fbe2f39f40"
   },
   "outputs": [],
   "source": [
    "best_model = compare_models()"
   ]
  },
  {
   "cell_type": "code",
   "execution_count": null,
   "id": "JsiK2_gv8dFZ",
   "metadata": {
    "id": "JsiK2_gv8dFZ"
   },
   "outputs": [],
   "source": [
    "models()"
   ]
  },
  {
   "cell_type": "code",
   "execution_count": null,
   "id": "kGn_3mJc8tKX",
   "metadata": {
    "id": "kGn_3mJc8tKX"
   },
   "outputs": [],
   "source": [
    "models(type='ensemble').index.tolist()"
   ]
  },
  {
   "cell_type": "markdown",
   "id": "nFNOUoA9z-bD",
   "metadata": {
    "id": "nFNOUoA9z-bD"
   },
   "source": [
    "## Hyper-parameterization"
   ]
  },
  {
   "cell_type": "markdown",
   "id": "HxctC8xF0T57",
   "metadata": {
    "id": "HxctC8xF0T57"
   },
   "source": [
    "## Ensemble Model"
   ]
  },
  {
   "cell_type": "markdown",
   "id": "jpQ1Grxa1LJR",
   "metadata": {
    "id": "jpQ1Grxa1LJR"
   },
   "source": [
    "## Evalute models"
   ]
  },
  {
   "cell_type": "markdown",
   "id": "319b575c",
   "metadata": {
    "id": "319b575c"
   },
   "source": [
    "# 6. Model Deployment"
   ]
  },
  {
   "cell_type": "markdown",
   "id": "08b3b42a",
   "metadata": {
    "id": "08b3b42a"
   },
   "source": [
    "# 7. Communication of Results"
   ]
  },
  {
   "cell_type": "code",
   "execution_count": null,
   "id": "f3ACvWx5azJ8",
   "metadata": {
    "id": "f3ACvWx5azJ8"
   },
   "outputs": [],
   "source": []
  }
 ],
 "metadata": {
  "colab": {
   "provenance": [],
   "toc_visible": true
  },
  "kernelspec": {
   "display_name": "Python 3 (ipykernel)",
   "language": "python",
   "name": "python3"
  },
  "language_info": {
   "codemirror_mode": {
    "name": "ipython",
    "version": 3
   },
   "file_extension": ".py",
   "mimetype": "text/x-python",
   "name": "python",
   "nbconvert_exporter": "python",
   "pygments_lexer": "ipython3",
   "version": "3.9.13"
  },
  "widgets": {
   "application/vnd.jupyter.widget-state+json": {
    "09e30edc60a74959bda1c7a95ad8da6a": {
     "model_module": "@jupyter-widgets/base",
     "model_module_version": "1.2.0",
     "model_name": "LayoutModel",
     "state": {
      "_model_module": "@jupyter-widgets/base",
      "_model_module_version": "1.2.0",
      "_model_name": "LayoutModel",
      "_view_count": null,
      "_view_module": "@jupyter-widgets/base",
      "_view_module_version": "1.2.0",
      "_view_name": "LayoutView",
      "align_content": null,
      "align_items": null,
      "align_self": null,
      "border": null,
      "bottom": null,
      "display": null,
      "flex": null,
      "flex_flow": null,
      "grid_area": null,
      "grid_auto_columns": null,
      "grid_auto_flow": null,
      "grid_auto_rows": null,
      "grid_column": null,
      "grid_gap": null,
      "grid_row": null,
      "grid_template_areas": null,
      "grid_template_columns": null,
      "grid_template_rows": null,
      "height": null,
      "justify_content": null,
      "justify_items": null,
      "left": null,
      "margin": null,
      "max_height": null,
      "max_width": null,
      "min_height": null,
      "min_width": null,
      "object_fit": null,
      "object_position": null,
      "order": null,
      "overflow": null,
      "overflow_x": null,
      "overflow_y": null,
      "padding": null,
      "right": null,
      "top": null,
      "visibility": null,
      "width": "100%"
     }
    },
    "115517ebfb0a42618308081ef127cd7a": {
     "model_module": "@jupyter-widgets/base",
     "model_module_version": "1.2.0",
     "model_name": "LayoutModel",
     "state": {
      "_model_module": "@jupyter-widgets/base",
      "_model_module_version": "1.2.0",
      "_model_name": "LayoutModel",
      "_view_count": null,
      "_view_module": "@jupyter-widgets/base",
      "_view_module_version": "1.2.0",
      "_view_name": "LayoutView",
      "align_content": null,
      "align_items": null,
      "align_self": null,
      "border": null,
      "bottom": null,
      "display": null,
      "flex": null,
      "flex_flow": null,
      "grid_area": null,
      "grid_auto_columns": null,
      "grid_auto_flow": null,
      "grid_auto_rows": null,
      "grid_column": null,
      "grid_gap": null,
      "grid_row": null,
      "grid_template_areas": null,
      "grid_template_columns": null,
      "grid_template_rows": null,
      "height": null,
      "justify_content": null,
      "justify_items": null,
      "left": null,
      "margin": null,
      "max_height": null,
      "max_width": null,
      "min_height": null,
      "min_width": null,
      "object_fit": null,
      "object_position": null,
      "order": null,
      "overflow": null,
      "overflow_x": null,
      "overflow_y": null,
      "padding": null,
      "right": null,
      "top": null,
      "visibility": null,
      "width": null
     }
    },
    "3dbe01c3671147aaadd4ab1df3363182": {
     "model_module": "@jupyter-widgets/controls",
     "model_module_version": "1.5.0",
     "model_name": "TextModel",
     "state": {
      "_dom_classes": [],
      "_model_module": "@jupyter-widgets/controls",
      "_model_module_version": "1.5.0",
      "_model_name": "TextModel",
      "_view_count": null,
      "_view_module": "@jupyter-widgets/controls",
      "_view_module_version": "1.5.0",
      "_view_name": "TextView",
      "continuous_update": true,
      "description": "",
      "description_tooltip": null,
      "disabled": false,
      "layout": "IPY_MODEL_09e30edc60a74959bda1c7a95ad8da6a",
      "placeholder": "​",
      "style": "IPY_MODEL_db57787656c74267a1dcf8484e023c62",
      "value": "Following data types have been inferred automatically, if they are correct press enter to continue or type 'quit' otherwise."
     }
    },
    "7763d5ce1c2c4acaa59a662418f8d6bd": {
     "model_module": "@jupyter-widgets/controls",
     "model_module_version": "1.5.0",
     "model_name": "IntProgressModel",
     "state": {
      "_dom_classes": [],
      "_model_module": "@jupyter-widgets/controls",
      "_model_module_version": "1.5.0",
      "_model_name": "IntProgressModel",
      "_view_count": null,
      "_view_module": "@jupyter-widgets/controls",
      "_view_module_version": "1.5.0",
      "_view_name": "ProgressView",
      "bar_style": "",
      "description": "Processing: ",
      "description_tooltip": null,
      "layout": "IPY_MODEL_ff3ce3534d53401898c384af67b08db2",
      "max": 74,
      "min": 0,
      "orientation": "horizontal",
      "style": "IPY_MODEL_af908b92aac44f1ca4ebbe07a09f47b3",
      "value": 50
     }
    },
    "a75a6cba8c2844a4b03ba970c0ef5e3c": {
     "model_module": "@jupyter-widgets/controls",
     "model_module_version": "1.5.0",
     "model_name": "ProgressStyleModel",
     "state": {
      "_model_module": "@jupyter-widgets/controls",
      "_model_module_version": "1.5.0",
      "_model_name": "ProgressStyleModel",
      "_view_count": null,
      "_view_module": "@jupyter-widgets/base",
      "_view_module_version": "1.2.0",
      "_view_name": "StyleView",
      "bar_color": null,
      "description_width": ""
     }
    },
    "af908b92aac44f1ca4ebbe07a09f47b3": {
     "model_module": "@jupyter-widgets/controls",
     "model_module_version": "1.5.0",
     "model_name": "ProgressStyleModel",
     "state": {
      "_model_module": "@jupyter-widgets/controls",
      "_model_module_version": "1.5.0",
      "_model_name": "ProgressStyleModel",
      "_view_count": null,
      "_view_module": "@jupyter-widgets/base",
      "_view_module_version": "1.2.0",
      "_view_name": "StyleView",
      "bar_color": null,
      "description_width": ""
     }
    },
    "db57787656c74267a1dcf8484e023c62": {
     "model_module": "@jupyter-widgets/controls",
     "model_module_version": "1.5.0",
     "model_name": "DescriptionStyleModel",
     "state": {
      "_model_module": "@jupyter-widgets/controls",
      "_model_module_version": "1.5.0",
      "_model_name": "DescriptionStyleModel",
      "_view_count": null,
      "_view_module": "@jupyter-widgets/base",
      "_view_module_version": "1.2.0",
      "_view_name": "StyleView",
      "description_width": ""
     }
    },
    "dc835f1a24b044e9b2b5bd1efcff42e6": {
     "model_module": "@jupyter-widgets/controls",
     "model_module_version": "1.5.0",
     "model_name": "IntProgressModel",
     "state": {
      "_dom_classes": [],
      "_model_module": "@jupyter-widgets/controls",
      "_model_module_version": "1.5.0",
      "_model_name": "IntProgressModel",
      "_view_count": null,
      "_view_module": "@jupyter-widgets/controls",
      "_view_module_version": "1.5.0",
      "_view_name": "ProgressView",
      "bar_style": "",
      "description": "Processing: ",
      "description_tooltip": null,
      "layout": "IPY_MODEL_115517ebfb0a42618308081ef127cd7a",
      "max": 3,
      "min": 0,
      "orientation": "horizontal",
      "style": "IPY_MODEL_a75a6cba8c2844a4b03ba970c0ef5e3c",
      "value": 3
     }
    },
    "ff3ce3534d53401898c384af67b08db2": {
     "model_module": "@jupyter-widgets/base",
     "model_module_version": "1.2.0",
     "model_name": "LayoutModel",
     "state": {
      "_model_module": "@jupyter-widgets/base",
      "_model_module_version": "1.2.0",
      "_model_name": "LayoutModel",
      "_view_count": null,
      "_view_module": "@jupyter-widgets/base",
      "_view_module_version": "1.2.0",
      "_view_name": "LayoutView",
      "align_content": null,
      "align_items": null,
      "align_self": null,
      "border": null,
      "bottom": null,
      "display": null,
      "flex": null,
      "flex_flow": null,
      "grid_area": null,
      "grid_auto_columns": null,
      "grid_auto_flow": null,
      "grid_auto_rows": null,
      "grid_column": null,
      "grid_gap": null,
      "grid_row": null,
      "grid_template_areas": null,
      "grid_template_columns": null,
      "grid_template_rows": null,
      "height": null,
      "justify_content": null,
      "justify_items": null,
      "left": null,
      "margin": null,
      "max_height": null,
      "max_width": null,
      "min_height": null,
      "min_width": null,
      "object_fit": null,
      "object_position": null,
      "order": null,
      "overflow": null,
      "overflow_x": null,
      "overflow_y": null,
      "padding": null,
      "right": null,
      "top": null,
      "visibility": null,
      "width": null
     }
    }
   }
  }
 },
 "nbformat": 4,
 "nbformat_minor": 5
}
